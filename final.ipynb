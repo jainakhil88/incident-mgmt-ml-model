{
 "cells": [
  {
   "cell_type": "code",
   "execution_count": null,
   "id": "93af70f5",
   "metadata": {},
   "outputs": [],
   "source": [
    "from flask import render_template, request, Response\n",
    "from flask import Flask\n",
    "from incident_mgmt_model import Model\n",
    "import pandas as pd\n",
    "import io\n",
    "\n",
    "app = Flask(__name__)  \n",
    "\n",
    "model = Model()\n",
    " \n",
    "@app.route('/')  \n",
    "def upload():  \n",
    "    return render_template(\"file_upload_form.html\")\n",
    " \n",
    "@app.route('/predict', methods = ['POST'])  \n",
    "def predict():  \n",
    "    if request.method == 'POST':          \n",
    "        rawDataFrame = pd.read_csv(request.files.get('file'))\n",
    "        \n",
    "        #passing dataframe to model\n",
    "        score=model.predict(rawDataFrame)    \n",
    "                \n",
    "        return Response(response=score)\n",
    "\n",
    "if __name__ == '__main__':  \n",
    "    app.run(debug = True , use_reloader=False)  \n",
    "    #"
   ]
  }
 ],
 "metadata": {
  "kernelspec": {
   "display_name": "Python 3",
   "language": "python",
   "name": "python3"
  },
  "language_info": {
   "codemirror_mode": {
    "name": "ipython",
    "version": 3
   },
   "file_extension": ".py",
   "mimetype": "text/x-python",
   "name": "python",
   "nbconvert_exporter": "python",
   "pygments_lexer": "ipython3",
   "version": "3.7.10"
  }
 },
 "nbformat": 4,
 "nbformat_minor": 5
}
