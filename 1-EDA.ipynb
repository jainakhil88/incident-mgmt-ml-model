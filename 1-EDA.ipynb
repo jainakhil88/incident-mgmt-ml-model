{
 "cells": [
  {
   "cell_type": "code",
   "execution_count": 1,
   "id": "5f4e250a",
   "metadata": {},
   "outputs": [],
   "source": [
    "import pandas as pd\n",
    "import seaborn as sns\n",
    "import matplotlib.pyplot as plt\n",
    "import numpy as np\n",
    "\n",
    "%matplotlib inline"
   ]
  },
  {
   "cell_type": "code",
   "execution_count": 2,
   "id": "4d4988f2",
   "metadata": {},
   "outputs": [],
   "source": [
    "df=pd.read_csv('incident_event_log.csv')"
   ]
  },
  {
   "cell_type": "code",
   "execution_count": 3,
   "id": "0e442895",
   "metadata": {},
   "outputs": [
    {
     "data": {
      "text/html": [
       "<div>\n",
       "<style scoped>\n",
       "    .dataframe tbody tr th:only-of-type {\n",
       "        vertical-align: middle;\n",
       "    }\n",
       "\n",
       "    .dataframe tbody tr th {\n",
       "        vertical-align: top;\n",
       "    }\n",
       "\n",
       "    .dataframe thead th {\n",
       "        text-align: right;\n",
       "    }\n",
       "</style>\n",
       "<table border=\"1\" class=\"dataframe\">\n",
       "  <thead>\n",
       "    <tr style=\"text-align: right;\">\n",
       "      <th></th>\n",
       "      <th>number</th>\n",
       "      <th>incident_state</th>\n",
       "      <th>active</th>\n",
       "      <th>reassignment_count</th>\n",
       "      <th>reopen_count</th>\n",
       "      <th>sys_mod_count</th>\n",
       "      <th>made_sla</th>\n",
       "      <th>caller_id</th>\n",
       "      <th>opened_by</th>\n",
       "      <th>opened_at</th>\n",
       "      <th>...</th>\n",
       "      <th>u_priority_confirmation</th>\n",
       "      <th>notify</th>\n",
       "      <th>problem_id</th>\n",
       "      <th>rfc</th>\n",
       "      <th>vendor</th>\n",
       "      <th>caused_by</th>\n",
       "      <th>closed_code</th>\n",
       "      <th>resolved_by</th>\n",
       "      <th>resolved_at</th>\n",
       "      <th>closed_at</th>\n",
       "    </tr>\n",
       "  </thead>\n",
       "  <tbody>\n",
       "    <tr>\n",
       "      <th>0</th>\n",
       "      <td>INC0000045</td>\n",
       "      <td>New</td>\n",
       "      <td>True</td>\n",
       "      <td>0</td>\n",
       "      <td>0</td>\n",
       "      <td>0</td>\n",
       "      <td>True</td>\n",
       "      <td>Caller 2403</td>\n",
       "      <td>Opened by  8</td>\n",
       "      <td>29/2/2016 01:16</td>\n",
       "      <td>...</td>\n",
       "      <td>False</td>\n",
       "      <td>Do Not Notify</td>\n",
       "      <td>?</td>\n",
       "      <td>?</td>\n",
       "      <td>?</td>\n",
       "      <td>?</td>\n",
       "      <td>code 5</td>\n",
       "      <td>Resolved by 149</td>\n",
       "      <td>29/2/2016 11:29</td>\n",
       "      <td>5/3/2016 12:00</td>\n",
       "    </tr>\n",
       "    <tr>\n",
       "      <th>1</th>\n",
       "      <td>INC0000045</td>\n",
       "      <td>Resolved</td>\n",
       "      <td>True</td>\n",
       "      <td>0</td>\n",
       "      <td>0</td>\n",
       "      <td>2</td>\n",
       "      <td>True</td>\n",
       "      <td>Caller 2403</td>\n",
       "      <td>Opened by  8</td>\n",
       "      <td>29/2/2016 01:16</td>\n",
       "      <td>...</td>\n",
       "      <td>False</td>\n",
       "      <td>Do Not Notify</td>\n",
       "      <td>?</td>\n",
       "      <td>?</td>\n",
       "      <td>?</td>\n",
       "      <td>?</td>\n",
       "      <td>code 5</td>\n",
       "      <td>Resolved by 149</td>\n",
       "      <td>29/2/2016 11:29</td>\n",
       "      <td>5/3/2016 12:00</td>\n",
       "    </tr>\n",
       "    <tr>\n",
       "      <th>2</th>\n",
       "      <td>INC0000045</td>\n",
       "      <td>Resolved</td>\n",
       "      <td>True</td>\n",
       "      <td>0</td>\n",
       "      <td>0</td>\n",
       "      <td>3</td>\n",
       "      <td>True</td>\n",
       "      <td>Caller 2403</td>\n",
       "      <td>Opened by  8</td>\n",
       "      <td>29/2/2016 01:16</td>\n",
       "      <td>...</td>\n",
       "      <td>False</td>\n",
       "      <td>Do Not Notify</td>\n",
       "      <td>?</td>\n",
       "      <td>?</td>\n",
       "      <td>?</td>\n",
       "      <td>?</td>\n",
       "      <td>code 5</td>\n",
       "      <td>Resolved by 149</td>\n",
       "      <td>29/2/2016 11:29</td>\n",
       "      <td>5/3/2016 12:00</td>\n",
       "    </tr>\n",
       "    <tr>\n",
       "      <th>3</th>\n",
       "      <td>INC0000045</td>\n",
       "      <td>Closed</td>\n",
       "      <td>False</td>\n",
       "      <td>0</td>\n",
       "      <td>0</td>\n",
       "      <td>4</td>\n",
       "      <td>True</td>\n",
       "      <td>Caller 2403</td>\n",
       "      <td>Opened by  8</td>\n",
       "      <td>29/2/2016 01:16</td>\n",
       "      <td>...</td>\n",
       "      <td>False</td>\n",
       "      <td>Do Not Notify</td>\n",
       "      <td>?</td>\n",
       "      <td>?</td>\n",
       "      <td>?</td>\n",
       "      <td>?</td>\n",
       "      <td>code 5</td>\n",
       "      <td>Resolved by 149</td>\n",
       "      <td>29/2/2016 11:29</td>\n",
       "      <td>5/3/2016 12:00</td>\n",
       "    </tr>\n",
       "    <tr>\n",
       "      <th>4</th>\n",
       "      <td>INC0000047</td>\n",
       "      <td>New</td>\n",
       "      <td>True</td>\n",
       "      <td>0</td>\n",
       "      <td>0</td>\n",
       "      <td>0</td>\n",
       "      <td>True</td>\n",
       "      <td>Caller 2403</td>\n",
       "      <td>Opened by  397</td>\n",
       "      <td>29/2/2016 04:40</td>\n",
       "      <td>...</td>\n",
       "      <td>False</td>\n",
       "      <td>Do Not Notify</td>\n",
       "      <td>?</td>\n",
       "      <td>?</td>\n",
       "      <td>?</td>\n",
       "      <td>?</td>\n",
       "      <td>code 5</td>\n",
       "      <td>Resolved by 81</td>\n",
       "      <td>1/3/2016 09:52</td>\n",
       "      <td>6/3/2016 10:00</td>\n",
       "    </tr>\n",
       "  </tbody>\n",
       "</table>\n",
       "<p>5 rows × 36 columns</p>\n",
       "</div>"
      ],
      "text/plain": [
       "       number incident_state  active  reassignment_count  reopen_count  \\\n",
       "0  INC0000045            New    True                   0             0   \n",
       "1  INC0000045       Resolved    True                   0             0   \n",
       "2  INC0000045       Resolved    True                   0             0   \n",
       "3  INC0000045         Closed   False                   0             0   \n",
       "4  INC0000047            New    True                   0             0   \n",
       "\n",
       "   sys_mod_count  made_sla    caller_id       opened_by        opened_at  ...  \\\n",
       "0              0      True  Caller 2403    Opened by  8  29/2/2016 01:16  ...   \n",
       "1              2      True  Caller 2403    Opened by  8  29/2/2016 01:16  ...   \n",
       "2              3      True  Caller 2403    Opened by  8  29/2/2016 01:16  ...   \n",
       "3              4      True  Caller 2403    Opened by  8  29/2/2016 01:16  ...   \n",
       "4              0      True  Caller 2403  Opened by  397  29/2/2016 04:40  ...   \n",
       "\n",
       "  u_priority_confirmation         notify problem_id rfc vendor caused_by  \\\n",
       "0                   False  Do Not Notify          ?   ?      ?         ?   \n",
       "1                   False  Do Not Notify          ?   ?      ?         ?   \n",
       "2                   False  Do Not Notify          ?   ?      ?         ?   \n",
       "3                   False  Do Not Notify          ?   ?      ?         ?   \n",
       "4                   False  Do Not Notify          ?   ?      ?         ?   \n",
       "\n",
       "  closed_code      resolved_by      resolved_at       closed_at  \n",
       "0      code 5  Resolved by 149  29/2/2016 11:29  5/3/2016 12:00  \n",
       "1      code 5  Resolved by 149  29/2/2016 11:29  5/3/2016 12:00  \n",
       "2      code 5  Resolved by 149  29/2/2016 11:29  5/3/2016 12:00  \n",
       "3      code 5  Resolved by 149  29/2/2016 11:29  5/3/2016 12:00  \n",
       "4      code 5   Resolved by 81   1/3/2016 09:52  6/3/2016 10:00  \n",
       "\n",
       "[5 rows x 36 columns]"
      ]
     },
     "execution_count": 3,
     "metadata": {},
     "output_type": "execute_result"
    }
   ],
   "source": [
    "df.head(5)"
   ]
  },
  {
   "cell_type": "markdown",
   "id": "6c1f85a5",
   "metadata": {},
   "source": [
    "<b>Observation:</b>\n",
    "Few columns contains '?', need to do more analysis if there are null/empty values or other types of values."
   ]
  },
  {
   "cell_type": "code",
   "execution_count": 4,
   "id": "b87c9030",
   "metadata": {},
   "outputs": [
    {
     "name": "stdout",
     "output_type": "stream",
     "text": [
      "<class 'pandas.core.frame.DataFrame'>\n",
      "RangeIndex: 141712 entries, 0 to 141711\n",
      "Data columns (total 36 columns):\n",
      " #   Column                   Non-Null Count   Dtype \n",
      "---  ------                   --------------   ----- \n",
      " 0   number                   141712 non-null  object\n",
      " 1   incident_state           141712 non-null  object\n",
      " 2   active                   141712 non-null  bool  \n",
      " 3   reassignment_count       141712 non-null  int64 \n",
      " 4   reopen_count             141712 non-null  int64 \n",
      " 5   sys_mod_count            141712 non-null  int64 \n",
      " 6   made_sla                 141712 non-null  bool  \n",
      " 7   caller_id                141712 non-null  object\n",
      " 8   opened_by                141712 non-null  object\n",
      " 9   opened_at                141712 non-null  object\n",
      " 10  sys_created_by           141712 non-null  object\n",
      " 11  sys_created_at           141712 non-null  object\n",
      " 12  sys_updated_by           141712 non-null  object\n",
      " 13  sys_updated_at           141712 non-null  object\n",
      " 14  contact_type             141712 non-null  object\n",
      " 15  location                 141712 non-null  object\n",
      " 16  category                 141712 non-null  object\n",
      " 17  subcategory              141712 non-null  object\n",
      " 18  u_symptom                141712 non-null  object\n",
      " 19  cmdb_ci                  141712 non-null  object\n",
      " 20  impact                   141712 non-null  object\n",
      " 21  urgency                  141712 non-null  object\n",
      " 22  priority                 141712 non-null  object\n",
      " 23  assignment_group         141712 non-null  object\n",
      " 24  assigned_to              141712 non-null  object\n",
      " 25  knowledge                141712 non-null  bool  \n",
      " 26  u_priority_confirmation  141712 non-null  bool  \n",
      " 27  notify                   141712 non-null  object\n",
      " 28  problem_id               141712 non-null  object\n",
      " 29  rfc                      141712 non-null  object\n",
      " 30  vendor                   141712 non-null  object\n",
      " 31  caused_by                141712 non-null  object\n",
      " 32  closed_code              141712 non-null  object\n",
      " 33  resolved_by              141712 non-null  object\n",
      " 34  resolved_at              141712 non-null  object\n",
      " 35  closed_at                141712 non-null  object\n",
      "dtypes: bool(4), int64(3), object(29)\n",
      "memory usage: 35.1+ MB\n"
     ]
    }
   ],
   "source": [
    "df.info()"
   ]
  },
  {
   "cell_type": "markdown",
   "id": "c90d8410",
   "metadata": {},
   "source": [
    "<b>Observation:</b>\n",
    "There are no empty values, all cells have values."
   ]
  },
  {
   "cell_type": "markdown",
   "id": "480f70ed",
   "metadata": {},
   "source": [
    "<hr  style=\"height:1px;\"/>"
   ]
  },
  {
   "cell_type": "code",
   "execution_count": 5,
   "id": "86f51373",
   "metadata": {},
   "outputs": [
    {
     "name": "stdout",
     "output_type": "stream",
     "text": [
      "+-------------------------+---------------+\n",
      "| Column Name             | Unique Values |\n",
      "+-------------------------+---------------+\n",
      "| number                  |     24918     |\n",
      "| incident_state          |       9       |\n",
      "| active                  |       2       |\n",
      "| reassignment_count      |       28      |\n",
      "| reopen_count            |       9       |\n",
      "| sys_mod_count           |      115      |\n",
      "| made_sla                |       2       |\n",
      "| caller_id               |      5245     |\n",
      "| opened_by               |      208      |\n",
      "| opened_at               |     19849     |\n",
      "| sys_created_by          |      186      |\n",
      "| sys_created_at          |     11553     |\n",
      "| sys_updated_by          |      846      |\n",
      "| sys_updated_at          |     50664     |\n",
      "| contact_type            |       5       |\n",
      "| location                |      225      |\n",
      "| category                |       59      |\n",
      "| subcategory             |      255      |\n",
      "| u_symptom               |      526      |\n",
      "| cmdb_ci                 |       51      |\n",
      "| impact                  |       3       |\n",
      "| urgency                 |       3       |\n",
      "| priority                |       4       |\n",
      "| assignment_group        |       79      |\n",
      "| assigned_to             |      235      |\n",
      "| knowledge               |       2       |\n",
      "| u_priority_confirmation |       2       |\n",
      "| notify                  |       2       |\n",
      "| problem_id              |      253      |\n",
      "| rfc                     |      182      |\n",
      "| vendor                  |       5       |\n",
      "| caused_by               |       4       |\n",
      "| closed_code             |       18      |\n",
      "| resolved_by             |      217      |\n",
      "| resolved_at             |     18506     |\n",
      "| closed_at               |      2707     |\n",
      "+-------------------------+---------------+\n"
     ]
    }
   ],
   "source": [
    "#https://stackoverflow.com/a/26937531/1225413\n",
    "# https://cppsecrets.com/users/11871069710310910110111611510511010310456574611511664103109971051084699111109/Python-prettytable-tutorial-generates-tables-in-python-with-prettytables.php\n",
    "from prettytable import PrettyTable\n",
    "t = PrettyTable()\n",
    "t.field_names = [\"Column Name\", \"Unique Values\"]\n",
    "t.align[\"Column Name\"] = \"l\"\n",
    "for i in df.columns:\n",
    "    t.add_row([i, df[i].nunique()])\n",
    "print(t)"
   ]
  },
  {
   "cell_type": "code",
   "execution_count": 6,
   "id": "4f617cd9",
   "metadata": {},
   "outputs": [
    {
     "name": "stdout",
     "output_type": "stream",
     "text": [
      "Count for each column with ? value\n"
     ]
    },
    {
     "data": {
      "text/plain": [
       "number                          0\n",
       "incident_state                  0\n",
       "active                          0\n",
       "reassignment_count              0\n",
       "reopen_count                    0\n",
       "sys_mod_count                   0\n",
       "made_sla                        0\n",
       "caller_id                      29\n",
       "opened_by                    4835\n",
       "opened_at                       0\n",
       "sys_created_by              53076\n",
       "sys_created_at              53076\n",
       "sys_updated_by                  0\n",
       "sys_updated_at                  0\n",
       "contact_type                    0\n",
       "location                       76\n",
       "category                       78\n",
       "subcategory                   111\n",
       "u_symptom                   32964\n",
       "cmdb_ci                    141267\n",
       "impact                          0\n",
       "urgency                         0\n",
       "priority                        0\n",
       "assignment_group            14213\n",
       "assigned_to                 27496\n",
       "knowledge                       0\n",
       "u_priority_confirmation         0\n",
       "notify                          0\n",
       "problem_id                 139417\n",
       "rfc                        140721\n",
       "vendor                     141468\n",
       "caused_by                  141689\n",
       "closed_code                   714\n",
       "resolved_by                   226\n",
       "resolved_at                  3141\n",
       "closed_at                       0\n",
       "dtype: int64"
      ]
     },
     "execution_count": 6,
     "metadata": {},
     "output_type": "execute_result"
    }
   ],
   "source": [
    "# https://stackoverflow.com/a/52426772\n",
    "print(\"Count for each column with ? value\")\n",
    "column_question_mark_value_count_series=df.isin(['?']).sum(axis=0)\n",
    "column_question_mark_value_count_series"
   ]
  },
  {
   "cell_type": "code",
   "execution_count": 7,
   "id": "23c0d852",
   "metadata": {},
   "outputs": [
    {
     "data": {
      "text/plain": [
       "<AxesSubplot:title={'center':'Plot showing count for each column with ? value'}>"
      ]
     },
     "execution_count": 7,
     "metadata": {},
     "output_type": "execute_result"
    },
    {
     "data": {
      "image/png": "[encoded data removed]",
      "text/plain": [
       "<Figure size 1080x720 with 1 Axes>"
      ]
     },
     "metadata": {
      "needs_background": "light"
     },
     "output_type": "display_data"
    }
   ],
   "source": [
    "# https://stackoverflow.com/a/37514712\n",
    "# https://www.geeksforgeeks.org/change-figure-size-in-pandas-python/\n",
    "column_question_mark_value_count_series.plot.bar(figsize=(15, 10), title=\"Plot showing count for each column with ? value\")"
   ]
  },
  {
   "cell_type": "code",
   "execution_count": 8,
   "id": "733d773b",
   "metadata": {},
   "outputs": [
    {
     "name": "stdout",
     "output_type": "stream",
     "text": [
      "Statistics summary for each column with ? value\n",
      "count        36.000000\n",
      "mean      24849.916667\n",
      "std       49212.887132\n",
      "min           0.000000\n",
      "25%           0.000000\n",
      "50%          14.500000\n",
      "75%       17533.750000\n",
      "max      141689.000000\n",
      "dtype: float64\n"
     ]
    }
   ],
   "source": [
    "# Print the summary statistics\n",
    "# https://pythontic.com/pandas/series-plotting/box%20plot\n",
    "print(\"Statistics summary for each column with ? value\")\n",
    "print(column_question_mark_value_count_series.describe());"
   ]
  },
  {
   "cell_type": "code",
   "execution_count": 9,
   "id": "d514d81c",
   "metadata": {},
   "outputs": [
    {
     "data": {
      "text/plain": [
       "sys_created_by     53076\n",
       "sys_created_at     53076\n",
       "cmdb_ci           141267\n",
       "problem_id        139417\n",
       "rfc               140721\n",
       "vendor            141468\n",
       "caused_by         141689\n",
       "dtype: int64"
      ]
     },
     "execution_count": 9,
     "metadata": {},
     "output_type": "execute_result"
    }
   ],
   "source": [
    "column_question_mark_value_count_series[column_question_mark_value_count_series>50000]"
   ]
  },
  {
   "cell_type": "markdown",
   "id": "4481c1c1",
   "metadata": {},
   "source": [
    "<h3>Observation:</h3>\n",
    "\n",
    "Above columns have majority of values with ?, which will be hard to impute. we need to remove this columns as they do not have much information and will not be helpful in building model."
   ]
  },
  {
   "cell_type": "markdown",
   "id": "adfb6617",
   "metadata": {},
   "source": [
    "<hr/>"
   ]
  },
  {
   "cell_type": "code",
   "execution_count": 10,
   "id": "5d66e233",
   "metadata": {},
   "outputs": [
    {
     "data": {
      "text/html": [
       "<div>\n",
       "<style scoped>\n",
       "    .dataframe tbody tr th:only-of-type {\n",
       "        vertical-align: middle;\n",
       "    }\n",
       "\n",
       "    .dataframe tbody tr th {\n",
       "        vertical-align: top;\n",
       "    }\n",
       "\n",
       "    .dataframe thead th {\n",
       "        text-align: right;\n",
       "    }\n",
       "</style>\n",
       "<table border=\"1\" class=\"dataframe\">\n",
       "  <thead>\n",
       "    <tr style=\"text-align: right;\">\n",
       "      <th></th>\n",
       "      <th>number</th>\n",
       "      <th>incident_state</th>\n",
       "      <th>active</th>\n",
       "      <th>reassignment_count</th>\n",
       "      <th>reopen_count</th>\n",
       "      <th>sys_mod_count</th>\n",
       "      <th>made_sla</th>\n",
       "      <th>caller_id</th>\n",
       "      <th>opened_by</th>\n",
       "      <th>opened_at</th>\n",
       "      <th>...</th>\n",
       "      <th>priority</th>\n",
       "      <th>assignment_group</th>\n",
       "      <th>assigned_to</th>\n",
       "      <th>knowledge</th>\n",
       "      <th>u_priority_confirmation</th>\n",
       "      <th>notify</th>\n",
       "      <th>closed_code</th>\n",
       "      <th>resolved_by</th>\n",
       "      <th>resolved_at</th>\n",
       "      <th>closed_at</th>\n",
       "    </tr>\n",
       "  </thead>\n",
       "  <tbody>\n",
       "    <tr>\n",
       "      <th>0</th>\n",
       "      <td>INC0000045</td>\n",
       "      <td>New</td>\n",
       "      <td>True</td>\n",
       "      <td>0</td>\n",
       "      <td>0</td>\n",
       "      <td>0</td>\n",
       "      <td>True</td>\n",
       "      <td>Caller 2403</td>\n",
       "      <td>Opened by  8</td>\n",
       "      <td>29/2/2016 01:16</td>\n",
       "      <td>...</td>\n",
       "      <td>3 - Moderate</td>\n",
       "      <td>Group 56</td>\n",
       "      <td>?</td>\n",
       "      <td>True</td>\n",
       "      <td>False</td>\n",
       "      <td>Do Not Notify</td>\n",
       "      <td>code 5</td>\n",
       "      <td>Resolved by 149</td>\n",
       "      <td>29/2/2016 11:29</td>\n",
       "      <td>5/3/2016 12:00</td>\n",
       "    </tr>\n",
       "    <tr>\n",
       "      <th>1</th>\n",
       "      <td>INC0000045</td>\n",
       "      <td>Resolved</td>\n",
       "      <td>True</td>\n",
       "      <td>0</td>\n",
       "      <td>0</td>\n",
       "      <td>2</td>\n",
       "      <td>True</td>\n",
       "      <td>Caller 2403</td>\n",
       "      <td>Opened by  8</td>\n",
       "      <td>29/2/2016 01:16</td>\n",
       "      <td>...</td>\n",
       "      <td>3 - Moderate</td>\n",
       "      <td>Group 56</td>\n",
       "      <td>?</td>\n",
       "      <td>True</td>\n",
       "      <td>False</td>\n",
       "      <td>Do Not Notify</td>\n",
       "      <td>code 5</td>\n",
       "      <td>Resolved by 149</td>\n",
       "      <td>29/2/2016 11:29</td>\n",
       "      <td>5/3/2016 12:00</td>\n",
       "    </tr>\n",
       "    <tr>\n",
       "      <th>2</th>\n",
       "      <td>INC0000045</td>\n",
       "      <td>Resolved</td>\n",
       "      <td>True</td>\n",
       "      <td>0</td>\n",
       "      <td>0</td>\n",
       "      <td>3</td>\n",
       "      <td>True</td>\n",
       "      <td>Caller 2403</td>\n",
       "      <td>Opened by  8</td>\n",
       "      <td>29/2/2016 01:16</td>\n",
       "      <td>...</td>\n",
       "      <td>3 - Moderate</td>\n",
       "      <td>Group 56</td>\n",
       "      <td>?</td>\n",
       "      <td>True</td>\n",
       "      <td>False</td>\n",
       "      <td>Do Not Notify</td>\n",
       "      <td>code 5</td>\n",
       "      <td>Resolved by 149</td>\n",
       "      <td>29/2/2016 11:29</td>\n",
       "      <td>5/3/2016 12:00</td>\n",
       "    </tr>\n",
       "    <tr>\n",
       "      <th>3</th>\n",
       "      <td>INC0000045</td>\n",
       "      <td>Closed</td>\n",
       "      <td>False</td>\n",
       "      <td>0</td>\n",
       "      <td>0</td>\n",
       "      <td>4</td>\n",
       "      <td>True</td>\n",
       "      <td>Caller 2403</td>\n",
       "      <td>Opened by  8</td>\n",
       "      <td>29/2/2016 01:16</td>\n",
       "      <td>...</td>\n",
       "      <td>3 - Moderate</td>\n",
       "      <td>Group 56</td>\n",
       "      <td>?</td>\n",
       "      <td>True</td>\n",
       "      <td>False</td>\n",
       "      <td>Do Not Notify</td>\n",
       "      <td>code 5</td>\n",
       "      <td>Resolved by 149</td>\n",
       "      <td>29/2/2016 11:29</td>\n",
       "      <td>5/3/2016 12:00</td>\n",
       "    </tr>\n",
       "    <tr>\n",
       "      <th>4</th>\n",
       "      <td>INC0000047</td>\n",
       "      <td>New</td>\n",
       "      <td>True</td>\n",
       "      <td>0</td>\n",
       "      <td>0</td>\n",
       "      <td>0</td>\n",
       "      <td>True</td>\n",
       "      <td>Caller 2403</td>\n",
       "      <td>Opened by  397</td>\n",
       "      <td>29/2/2016 04:40</td>\n",
       "      <td>...</td>\n",
       "      <td>3 - Moderate</td>\n",
       "      <td>Group 70</td>\n",
       "      <td>Resolver 89</td>\n",
       "      <td>True</td>\n",
       "      <td>False</td>\n",
       "      <td>Do Not Notify</td>\n",
       "      <td>code 5</td>\n",
       "      <td>Resolved by 81</td>\n",
       "      <td>1/3/2016 09:52</td>\n",
       "      <td>6/3/2016 10:00</td>\n",
       "    </tr>\n",
       "  </tbody>\n",
       "</table>\n",
       "<p>5 rows × 29 columns</p>\n",
       "</div>"
      ],
      "text/plain": [
       "       number incident_state  active  reassignment_count  reopen_count  \\\n",
       "0  INC0000045            New    True                   0             0   \n",
       "1  INC0000045       Resolved    True                   0             0   \n",
       "2  INC0000045       Resolved    True                   0             0   \n",
       "3  INC0000045         Closed   False                   0             0   \n",
       "4  INC0000047            New    True                   0             0   \n",
       "\n",
       "   sys_mod_count  made_sla    caller_id       opened_by        opened_at  ...  \\\n",
       "0              0      True  Caller 2403    Opened by  8  29/2/2016 01:16  ...   \n",
       "1              2      True  Caller 2403    Opened by  8  29/2/2016 01:16  ...   \n",
       "2              3      True  Caller 2403    Opened by  8  29/2/2016 01:16  ...   \n",
       "3              4      True  Caller 2403    Opened by  8  29/2/2016 01:16  ...   \n",
       "4              0      True  Caller 2403  Opened by  397  29/2/2016 04:40  ...   \n",
       "\n",
       "       priority assignment_group  assigned_to knowledge  \\\n",
       "0  3 - Moderate         Group 56            ?      True   \n",
       "1  3 - Moderate         Group 56            ?      True   \n",
       "2  3 - Moderate         Group 56            ?      True   \n",
       "3  3 - Moderate         Group 56            ?      True   \n",
       "4  3 - Moderate         Group 70  Resolver 89      True   \n",
       "\n",
       "  u_priority_confirmation         notify closed_code      resolved_by  \\\n",
       "0                   False  Do Not Notify      code 5  Resolved by 149   \n",
       "1                   False  Do Not Notify      code 5  Resolved by 149   \n",
       "2                   False  Do Not Notify      code 5  Resolved by 149   \n",
       "3                   False  Do Not Notify      code 5  Resolved by 149   \n",
       "4                   False  Do Not Notify      code 5   Resolved by 81   \n",
       "\n",
       "       resolved_at       closed_at  \n",
       "0  29/2/2016 11:29  5/3/2016 12:00  \n",
       "1  29/2/2016 11:29  5/3/2016 12:00  \n",
       "2  29/2/2016 11:29  5/3/2016 12:00  \n",
       "3  29/2/2016 11:29  5/3/2016 12:00  \n",
       "4   1/3/2016 09:52  6/3/2016 10:00  \n",
       "\n",
       "[5 rows x 29 columns]"
      ]
     },
     "execution_count": 10,
     "metadata": {},
     "output_type": "execute_result"
    }
   ],
   "source": [
    "# Removing 7 columns \n",
    "df_with_high_question_value_column_dropped = df.drop(['cmdb_ci','problem_id','rfc','vendor','caused_by', 'sys_created_by', 'sys_created_at'], axis=1)    \n",
    "df_with_high_question_value_column_dropped.head(5)"
   ]
  },
  {
   "cell_type": "markdown",
   "id": "392f8237",
   "metadata": {},
   "source": [
    "<hr  style=\"height:1px;\"/>"
   ]
  },
  {
   "cell_type": "code",
   "execution_count": 11,
   "id": "44e6c617",
   "metadata": {},
   "outputs": [
    {
     "data": {
      "text/plain": [
       "[Text(0.5, 1.0, 'Plot showing distribution of closed category code')]"
      ]
     },
     "execution_count": 11,
     "metadata": {},
     "output_type": "execute_result"
    },
    {
     "data": {
      "image/png": "[encoded data removed]",
      "text/plain": [
       "<Figure size 1440x720 with 1 Axes>"
      ]
     },
     "metadata": {
      "needs_background": "light"
     },
     "output_type": "display_data"
    }
   ],
   "source": [
    "fig_dims = (20, 10)\n",
    "fig, ax = plt.subplots(figsize=fig_dims)\n",
    "g=sns.histplot(df_with_high_question_value_column_dropped, x='closed_code', ax=ax)\n",
    "g.set(title=\"Plot showing distribution of closed category code\")"
   ]
  },
  {
   "cell_type": "markdown",
   "id": "5f6f08ad",
   "metadata": {},
   "source": [
    "<h3>Observation:</h3>\n",
    "\n",
    "The dataset is highly imbalanced if <b>closed_code</b> is considered as most of the incidents close with <b>code 6</b>."
   ]
  },
  {
   "cell_type": "markdown",
   "id": "ac13dad6",
   "metadata": {},
   "source": [
    "<hr  style=\"height:1px;\"/>"
   ]
  },
  {
   "cell_type": "code",
   "execution_count": 12,
   "id": "aabacc86",
   "metadata": {},
   "outputs": [
    {
     "data": {
      "text/plain": [
       "True     116726\n",
       "False     24986\n",
       "Name: active, dtype: int64"
      ]
     },
     "execution_count": 12,
     "metadata": {},
     "output_type": "execute_result"
    }
   ],
   "source": [
    "df_with_high_question_value_column_dropped[\"active\"].value_counts()"
   ]
  },
  {
   "cell_type": "markdown",
   "id": "6a200ca5",
   "metadata": {},
   "source": [
    "<h3>Observation:</h3>\n",
    "\n",
    "Majority of the issues are in active state."
   ]
  },
  {
   "cell_type": "markdown",
   "id": "32be1b7d",
   "metadata": {},
   "source": [
    "<hr  style=\"height:1px;\"/>"
   ]
  },
  {
   "cell_type": "code",
   "execution_count": 13,
   "id": "afaedf3c",
   "metadata": {},
   "outputs": [],
   "source": [
    "incident_state_value_count=df_with_high_question_value_column_dropped[\"incident_state\"].value_counts()"
   ]
  },
  {
   "cell_type": "code",
   "execution_count": 14,
   "id": "f6a7008c",
   "metadata": {},
   "outputs": [
    {
     "data": {
      "image/png": "[encoded data removed]",
      "text/plain": [
       "<Figure size 1440x288 with 1 Axes>"
      ]
     },
     "metadata": {
      "needs_background": "light"
     },
     "output_type": "display_data"
    }
   ],
   "source": [
    "# https://stackoverflow.com/a/31460312\n",
    "# https://www.kite.com/python/answers/how-to-change-the-seaborn-plot-figure-size-in-python\n",
    "fig_dims = (20, 4)\n",
    "fig, ax = plt.subplots(figsize=fig_dims)\n",
    "g=sns.barplot(x=df_with_high_question_value_column_dropped.incident_state.value_counts().index,\n",
    "            y=df_with_high_question_value_column_dropped.incident_state.value_counts(), ax=ax, data=df_with_high_question_value_column_dropped)"
   ]
  },
  {
   "cell_type": "code",
   "execution_count": 15,
   "id": "9ca4314f",
   "metadata": {},
   "outputs": [
    {
     "data": {
      "text/html": [
       "<div>\n",
       "<style scoped>\n",
       "    .dataframe tbody tr th:only-of-type {\n",
       "        vertical-align: middle;\n",
       "    }\n",
       "\n",
       "    .dataframe tbody tr th {\n",
       "        vertical-align: top;\n",
       "    }\n",
       "\n",
       "    .dataframe thead th {\n",
       "        text-align: right;\n",
       "    }\n",
       "</style>\n",
       "<table border=\"1\" class=\"dataframe\">\n",
       "  <thead>\n",
       "    <tr style=\"text-align: right;\">\n",
       "      <th></th>\n",
       "      <th>number</th>\n",
       "      <th>incident_state</th>\n",
       "      <th>active</th>\n",
       "      <th>reassignment_count</th>\n",
       "      <th>reopen_count</th>\n",
       "      <th>sys_mod_count</th>\n",
       "      <th>made_sla</th>\n",
       "      <th>caller_id</th>\n",
       "      <th>opened_by</th>\n",
       "      <th>opened_at</th>\n",
       "      <th>...</th>\n",
       "      <th>priority</th>\n",
       "      <th>assignment_group</th>\n",
       "      <th>assigned_to</th>\n",
       "      <th>knowledge</th>\n",
       "      <th>u_priority_confirmation</th>\n",
       "      <th>notify</th>\n",
       "      <th>closed_code</th>\n",
       "      <th>resolved_by</th>\n",
       "      <th>resolved_at</th>\n",
       "      <th>closed_at</th>\n",
       "    </tr>\n",
       "  </thead>\n",
       "  <tbody>\n",
       "    <tr>\n",
       "      <th>115641</th>\n",
       "      <td>INC0028089</td>\n",
       "      <td>-100</td>\n",
       "      <td>True</td>\n",
       "      <td>0</td>\n",
       "      <td>0</td>\n",
       "      <td>1</td>\n",
       "      <td>True</td>\n",
       "      <td>Caller 290</td>\n",
       "      <td>Opened by  305</td>\n",
       "      <td>10/5/2016 22:09</td>\n",
       "      <td>...</td>\n",
       "      <td>3 - Moderate</td>\n",
       "      <td>Group 64</td>\n",
       "      <td>Resolver 15</td>\n",
       "      <td>False</td>\n",
       "      <td>False</td>\n",
       "      <td>Do Not Notify</td>\n",
       "      <td>code 7</td>\n",
       "      <td>Resolved by 175</td>\n",
       "      <td>16/6/2016 13:02</td>\n",
       "      <td>21/6/2016 13:07</td>\n",
       "    </tr>\n",
       "    <tr>\n",
       "      <th>115642</th>\n",
       "      <td>INC0028089</td>\n",
       "      <td>-100</td>\n",
       "      <td>True</td>\n",
       "      <td>0</td>\n",
       "      <td>0</td>\n",
       "      <td>2</td>\n",
       "      <td>True</td>\n",
       "      <td>Caller 290</td>\n",
       "      <td>Opened by  305</td>\n",
       "      <td>10/5/2016 22:09</td>\n",
       "      <td>...</td>\n",
       "      <td>3 - Moderate</td>\n",
       "      <td>Group 64</td>\n",
       "      <td>Resolver 15</td>\n",
       "      <td>False</td>\n",
       "      <td>False</td>\n",
       "      <td>Do Not Notify</td>\n",
       "      <td>code 7</td>\n",
       "      <td>Resolved by 175</td>\n",
       "      <td>16/6/2016 13:02</td>\n",
       "      <td>21/6/2016 13:07</td>\n",
       "    </tr>\n",
       "    <tr>\n",
       "      <th>124507</th>\n",
       "      <td>INC0030413</td>\n",
       "      <td>-100</td>\n",
       "      <td>True</td>\n",
       "      <td>1</td>\n",
       "      <td>0</td>\n",
       "      <td>14</td>\n",
       "      <td>True</td>\n",
       "      <td>Caller 2950</td>\n",
       "      <td>Opened by  17</td>\n",
       "      <td>17/5/2016 14:42</td>\n",
       "      <td>...</td>\n",
       "      <td>3 - Moderate</td>\n",
       "      <td>Group 17</td>\n",
       "      <td>Resolver 77</td>\n",
       "      <td>False</td>\n",
       "      <td>False</td>\n",
       "      <td>Do Not Notify</td>\n",
       "      <td>code 7</td>\n",
       "      <td>Resolved by 70</td>\n",
       "      <td>21/6/2016 17:28</td>\n",
       "      <td>26/6/2016 18:00</td>\n",
       "    </tr>\n",
       "    <tr>\n",
       "      <th>124508</th>\n",
       "      <td>INC0030413</td>\n",
       "      <td>-100</td>\n",
       "      <td>True</td>\n",
       "      <td>1</td>\n",
       "      <td>0</td>\n",
       "      <td>15</td>\n",
       "      <td>True</td>\n",
       "      <td>Caller 2950</td>\n",
       "      <td>Opened by  17</td>\n",
       "      <td>17/5/2016 14:42</td>\n",
       "      <td>...</td>\n",
       "      <td>3 - Moderate</td>\n",
       "      <td>Group 17</td>\n",
       "      <td>Resolver 77</td>\n",
       "      <td>False</td>\n",
       "      <td>False</td>\n",
       "      <td>Do Not Notify</td>\n",
       "      <td>code 7</td>\n",
       "      <td>Resolved by 70</td>\n",
       "      <td>21/6/2016 17:28</td>\n",
       "      <td>26/6/2016 18:00</td>\n",
       "    </tr>\n",
       "    <tr>\n",
       "      <th>124509</th>\n",
       "      <td>INC0030413</td>\n",
       "      <td>-100</td>\n",
       "      <td>True</td>\n",
       "      <td>1</td>\n",
       "      <td>0</td>\n",
       "      <td>20</td>\n",
       "      <td>True</td>\n",
       "      <td>Caller 2950</td>\n",
       "      <td>Opened by  17</td>\n",
       "      <td>17/5/2016 14:42</td>\n",
       "      <td>...</td>\n",
       "      <td>3 - Moderate</td>\n",
       "      <td>Group 17</td>\n",
       "      <td>Resolver 77</td>\n",
       "      <td>False</td>\n",
       "      <td>False</td>\n",
       "      <td>Do Not Notify</td>\n",
       "      <td>code 7</td>\n",
       "      <td>Resolved by 70</td>\n",
       "      <td>21/6/2016 17:28</td>\n",
       "      <td>26/6/2016 18:00</td>\n",
       "    </tr>\n",
       "  </tbody>\n",
       "</table>\n",
       "<p>5 rows × 29 columns</p>\n",
       "</div>"
      ],
      "text/plain": [
       "            number incident_state  active  reassignment_count  reopen_count  \\\n",
       "115641  INC0028089           -100    True                   0             0   \n",
       "115642  INC0028089           -100    True                   0             0   \n",
       "124507  INC0030413           -100    True                   1             0   \n",
       "124508  INC0030413           -100    True                   1             0   \n",
       "124509  INC0030413           -100    True                   1             0   \n",
       "\n",
       "        sys_mod_count  made_sla    caller_id       opened_by        opened_at  \\\n",
       "115641              1      True   Caller 290  Opened by  305  10/5/2016 22:09   \n",
       "115642              2      True   Caller 290  Opened by  305  10/5/2016 22:09   \n",
       "124507             14      True  Caller 2950   Opened by  17  17/5/2016 14:42   \n",
       "124508             15      True  Caller 2950   Opened by  17  17/5/2016 14:42   \n",
       "124509             20      True  Caller 2950   Opened by  17  17/5/2016 14:42   \n",
       "\n",
       "        ...      priority assignment_group  assigned_to knowledge  \\\n",
       "115641  ...  3 - Moderate         Group 64  Resolver 15     False   \n",
       "115642  ...  3 - Moderate         Group 64  Resolver 15     False   \n",
       "124507  ...  3 - Moderate         Group 17  Resolver 77     False   \n",
       "124508  ...  3 - Moderate         Group 17  Resolver 77     False   \n",
       "124509  ...  3 - Moderate         Group 17  Resolver 77     False   \n",
       "\n",
       "       u_priority_confirmation         notify closed_code      resolved_by  \\\n",
       "115641                   False  Do Not Notify      code 7  Resolved by 175   \n",
       "115642                   False  Do Not Notify      code 7  Resolved by 175   \n",
       "124507                   False  Do Not Notify      code 7   Resolved by 70   \n",
       "124508                   False  Do Not Notify      code 7   Resolved by 70   \n",
       "124509                   False  Do Not Notify      code 7   Resolved by 70   \n",
       "\n",
       "            resolved_at        closed_at  \n",
       "115641  16/6/2016 13:02  21/6/2016 13:07  \n",
       "115642  16/6/2016 13:02  21/6/2016 13:07  \n",
       "124507  21/6/2016 17:28  26/6/2016 18:00  \n",
       "124508  21/6/2016 17:28  26/6/2016 18:00  \n",
       "124509  21/6/2016 17:28  26/6/2016 18:00  \n",
       "\n",
       "[5 rows x 29 columns]"
      ]
     },
     "execution_count": 15,
     "metadata": {},
     "output_type": "execute_result"
    }
   ],
   "source": [
    "df_with_high_question_value_column_dropped.loc[df_with_high_question_value_column_dropped[\"incident_state\"] == \"-100\"]"
   ]
  },
  {
   "cell_type": "markdown",
   "id": "93f6e0d5",
   "metadata": {},
   "source": [
    "<h3>Observation:</h3>\n",
    "\n",
    "Only 2 incidents(by number),  have missing incident state."
   ]
  },
  {
   "cell_type": "markdown",
   "id": "2acafa03",
   "metadata": {},
   "source": [
    "<hr  style=\"height:1px;\"/>"
   ]
  },
  {
   "cell_type": "code",
   "execution_count": 16,
   "id": "7cae5fed",
   "metadata": {},
   "outputs": [
    {
     "data": {
      "text/plain": [
       "[Text(0.5, 1.0, 'Plot showing distribution of priority')]"
      ]
     },
     "execution_count": 16,
     "metadata": {},
     "output_type": "execute_result"
    },
    {
     "data": {
      "image/png": "[encoded data removed]",
      "text/plain": [
       "<Figure size 432x288 with 1 Axes>"
      ]
     },
     "metadata": {
      "needs_background": "light"
     },
     "output_type": "display_data"
    }
   ],
   "source": [
    "g=sns.histplot(df_with_high_question_value_column_dropped, x='priority')\n",
    "g.set(title=\"Plot showing distribution of priority\")"
   ]
  },
  {
   "cell_type": "markdown",
   "id": "92d04054",
   "metadata": {},
   "source": [
    "Most of the issues are in moderate priority."
   ]
  },
  {
   "cell_type": "markdown",
   "id": "0f4825d6",
   "metadata": {},
   "source": [
    "<hr  style=\"height:1px;\"/>"
   ]
  },
  {
   "cell_type": "code",
   "execution_count": 17,
   "id": "dd53591c",
   "metadata": {},
   "outputs": [],
   "source": [
    "# https://towardsdatascience.com/getting-more-value-from-the-pandas-value-counts-aa17230907a6\n",
    "reassignment_count=df_with_high_question_value_column_dropped[\"reassignment_count\"].value_counts()"
   ]
  },
  {
   "cell_type": "code",
   "execution_count": 18,
   "id": "8b3fea88",
   "metadata": {},
   "outputs": [
    {
     "data": {
      "text/plain": [
       "Text(0.5, 1.0, 'Distribution of number of times ticket have been reassigned')"
      ]
     },
     "execution_count": 18,
     "metadata": {},
     "output_type": "execute_result"
    },
    {
     "data": {
      "image/png": "[encoded data removed]",
      "text/plain": [
       "<Figure size 1440x720 with 1 Axes>"
      ]
     },
     "metadata": {
      "needs_background": "light"
     },
     "output_type": "display_data"
    }
   ],
   "source": [
    "# https://stackoverflow.com/a/31460312\n",
    "# https://www.kite.com/python/answers/how-to-change-the-seaborn-plot-figure-size-in-python\n",
    "fig_dims = (20, 10)\n",
    "fig, ax = plt.subplots(figsize=fig_dims)\n",
    "g=sns.barplot(x=df_with_high_question_value_column_dropped.reassignment_count.value_counts().index,\n",
    "            y=df_with_high_question_value_column_dropped.reassignment_count.value_counts(), ax=ax, data=df_with_high_question_value_column_dropped)\n",
    "g.set_title(\"Distribution of number of times ticket have been reassigned\")"
   ]
  },
  {
   "cell_type": "code",
   "execution_count": 19,
   "id": "c24e0063",
   "metadata": {},
   "outputs": [
    {
     "data": {
      "text/plain": [
       "0    139398\n",
       "1      1918\n",
       "2       190\n",
       "3       107\n",
       "4        48\n",
       "5        24\n",
       "6        18\n",
       "7         5\n",
       "8         4\n",
       "Name: reopen_count, dtype: int64"
      ]
     },
     "execution_count": 19,
     "metadata": {},
     "output_type": "execute_result"
    }
   ],
   "source": [
    "reopen_count=df_with_high_question_value_column_dropped[\"reopen_count\"].value_counts()\n",
    "reopen_count"
   ]
  },
  {
   "cell_type": "code",
   "execution_count": 20,
   "id": "41ded9d2",
   "metadata": {},
   "outputs": [
    {
     "data": {
      "text/plain": [
       "Text(0.5, 1.0, 'Distribution of number of times ticket have been reopened')"
      ]
     },
     "execution_count": 20,
     "metadata": {},
     "output_type": "execute_result"
    },
    {
     "data": {
      "image/png": "[encoded data removed]",
      "text/plain": [
       "<Figure size 720x288 with 1 Axes>"
      ]
     },
     "metadata": {
      "needs_background": "light"
     },
     "output_type": "display_data"
    }
   ],
   "source": [
    "fig_dims = (10, 4)\n",
    "fig, ax = plt.subplots(figsize=fig_dims)\n",
    "sns.countplot(x='reopen_count', data=df_with_high_question_value_column_dropped, ax=ax)\n",
    "g.set_title(\"Distribution of number of times ticket have been reopened\")"
   ]
  },
  {
   "cell_type": "code",
   "execution_count": 21,
   "id": "9e73bd87",
   "metadata": {},
   "outputs": [
    {
     "data": {
      "text/plain": [
       "incident_state      priority    \n",
       "-100                3 - Moderate        5\n",
       "Active              1 - Critical      706\n",
       "                    2 - High          734\n",
       "                    3 - Moderate    36235\n",
       "                    4 - Low          1041\n",
       "Awaiting Evidence   1 - Critical        3\n",
       "                    2 - High            1\n",
       "                    3 - Moderate       32\n",
       "                    4 - Low             2\n",
       "Awaiting Problem    1 - Critical       14\n",
       "                    2 - High           27\n",
       "                    3 - Moderate      378\n",
       "                    4 - Low            42\n",
       "Awaiting User Info  1 - Critical      157\n",
       "                    2 - High          234\n",
       "                    3 - Moderate    13721\n",
       "                    4 - Low           530\n",
       "Awaiting Vendor     1 - Critical       22\n",
       "                    2 - High            5\n",
       "                    3 - Moderate      676\n",
       "                    4 - Low             4\n",
       "Closed              1 - Critical      271\n",
       "                    2 - High          408\n",
       "                    3 - Moderate    23529\n",
       "                    4 - Low           777\n",
       "New                 1 - Critical      669\n",
       "                    2 - High         1139\n",
       "                    3 - Moderate    33735\n",
       "                    4 - Low           864\n",
       "Resolved            1 - Critical      416\n",
       "                    2 - High          424\n",
       "                    3 - Moderate    24141\n",
       "                    4 - Low           770\n",
       "Name: priority, dtype: int64"
      ]
     },
     "execution_count": 21,
     "metadata": {},
     "output_type": "execute_result"
    }
   ],
   "source": [
    "df.groupby(['incident_state','priority'])['priority'].count()"
   ]
  },
  {
   "cell_type": "code",
   "execution_count": 22,
   "id": "22b1d351",
   "metadata": {},
   "outputs": [
    {
     "data": {
      "text/plain": [
       "<matplotlib.legend.Legend at 0x1dcf8b3e1c8>"
      ]
     },
     "execution_count": 22,
     "metadata": {},
     "output_type": "execute_result"
    },
    {
     "data": {
      "image/png": "[encoded data removed]",
      "text/plain": [
       "<Figure size 1440x720 with 1 Axes>"
      ]
     },
     "metadata": {
      "needs_background": "light"
     },
     "output_type": "display_data"
    }
   ],
   "source": [
    "# https://seaborn.pydata.org/generated/seaborn.countplot.html\n",
    "# https://stackoverflow.com/a/27084389/1225413\n",
    "fig_dims = (20, 10)\n",
    "fig, ax = plt.subplots(figsize=fig_dims)\n",
    "\n",
    "g=sns.countplot(x=\"incident_state\", hue=\"priority\", data=df_with_high_question_value_column_dropped, ax=ax)\n",
    "g.set_title(\"Incident state wise categorization of incident priority\")\n",
    "plt.legend(loc='upper right')"
   ]
  },
  {
   "cell_type": "code",
   "execution_count": 23,
   "id": "3599b1f3",
   "metadata": {},
   "outputs": [
    {
     "data": {
      "text/html": [
       "<div>\n",
       "<style scoped>\n",
       "    .dataframe tbody tr th:only-of-type {\n",
       "        vertical-align: middle;\n",
       "    }\n",
       "\n",
       "    .dataframe tbody tr th {\n",
       "        vertical-align: top;\n",
       "    }\n",
       "\n",
       "    .dataframe thead th {\n",
       "        text-align: right;\n",
       "    }\n",
       "</style>\n",
       "<table border=\"1\" class=\"dataframe\">\n",
       "  <thead>\n",
       "    <tr style=\"text-align: right;\">\n",
       "      <th></th>\n",
       "      <th>incident_state</th>\n",
       "      <th>active</th>\n",
       "      <th>reassignment_count</th>\n",
       "      <th>reopen_count</th>\n",
       "      <th>sys_mod_count</th>\n",
       "      <th>made_sla</th>\n",
       "      <th>caller_id</th>\n",
       "      <th>opened_by</th>\n",
       "      <th>opened_at</th>\n",
       "      <th>sys_updated_by</th>\n",
       "      <th>...</th>\n",
       "      <th>priority</th>\n",
       "      <th>assignment_group</th>\n",
       "      <th>assigned_to</th>\n",
       "      <th>knowledge</th>\n",
       "      <th>u_priority_confirmation</th>\n",
       "      <th>notify</th>\n",
       "      <th>closed_code</th>\n",
       "      <th>resolved_by</th>\n",
       "      <th>resolved_at</th>\n",
       "      <th>closed_at</th>\n",
       "    </tr>\n",
       "    <tr>\n",
       "      <th>number</th>\n",
       "      <th></th>\n",
       "      <th></th>\n",
       "      <th></th>\n",
       "      <th></th>\n",
       "      <th></th>\n",
       "      <th></th>\n",
       "      <th></th>\n",
       "      <th></th>\n",
       "      <th></th>\n",
       "      <th></th>\n",
       "      <th></th>\n",
       "      <th></th>\n",
       "      <th></th>\n",
       "      <th></th>\n",
       "      <th></th>\n",
       "      <th></th>\n",
       "      <th></th>\n",
       "      <th></th>\n",
       "      <th></th>\n",
       "      <th></th>\n",
       "      <th></th>\n",
       "    </tr>\n",
       "  </thead>\n",
       "  <tbody>\n",
       "    <tr>\n",
       "      <th>INC0000045</th>\n",
       "      <td>4</td>\n",
       "      <td>4</td>\n",
       "      <td>4</td>\n",
       "      <td>4</td>\n",
       "      <td>4</td>\n",
       "      <td>4</td>\n",
       "      <td>4</td>\n",
       "      <td>4</td>\n",
       "      <td>4</td>\n",
       "      <td>4</td>\n",
       "      <td>...</td>\n",
       "      <td>4</td>\n",
       "      <td>4</td>\n",
       "      <td>4</td>\n",
       "      <td>4</td>\n",
       "      <td>4</td>\n",
       "      <td>4</td>\n",
       "      <td>4</td>\n",
       "      <td>4</td>\n",
       "      <td>4</td>\n",
       "      <td>4</td>\n",
       "    </tr>\n",
       "    <tr>\n",
       "      <th>INC0000047</th>\n",
       "      <td>9</td>\n",
       "      <td>9</td>\n",
       "      <td>9</td>\n",
       "      <td>9</td>\n",
       "      <td>9</td>\n",
       "      <td>9</td>\n",
       "      <td>9</td>\n",
       "      <td>9</td>\n",
       "      <td>9</td>\n",
       "      <td>9</td>\n",
       "      <td>...</td>\n",
       "      <td>9</td>\n",
       "      <td>9</td>\n",
       "      <td>9</td>\n",
       "      <td>9</td>\n",
       "      <td>9</td>\n",
       "      <td>9</td>\n",
       "      <td>9</td>\n",
       "      <td>9</td>\n",
       "      <td>9</td>\n",
       "      <td>9</td>\n",
       "    </tr>\n",
       "    <tr>\n",
       "      <th>INC0000057</th>\n",
       "      <td>7</td>\n",
       "      <td>7</td>\n",
       "      <td>7</td>\n",
       "      <td>7</td>\n",
       "      <td>7</td>\n",
       "      <td>7</td>\n",
       "      <td>7</td>\n",
       "      <td>7</td>\n",
       "      <td>7</td>\n",
       "      <td>7</td>\n",
       "      <td>...</td>\n",
       "      <td>7</td>\n",
       "      <td>7</td>\n",
       "      <td>7</td>\n",
       "      <td>7</td>\n",
       "      <td>7</td>\n",
       "      <td>7</td>\n",
       "      <td>7</td>\n",
       "      <td>7</td>\n",
       "      <td>7</td>\n",
       "      <td>7</td>\n",
       "    </tr>\n",
       "    <tr>\n",
       "      <th>INC0000060</th>\n",
       "      <td>4</td>\n",
       "      <td>4</td>\n",
       "      <td>4</td>\n",
       "      <td>4</td>\n",
       "      <td>4</td>\n",
       "      <td>4</td>\n",
       "      <td>4</td>\n",
       "      <td>4</td>\n",
       "      <td>4</td>\n",
       "      <td>4</td>\n",
       "      <td>...</td>\n",
       "      <td>4</td>\n",
       "      <td>4</td>\n",
       "      <td>4</td>\n",
       "      <td>4</td>\n",
       "      <td>4</td>\n",
       "      <td>4</td>\n",
       "      <td>4</td>\n",
       "      <td>4</td>\n",
       "      <td>4</td>\n",
       "      <td>4</td>\n",
       "    </tr>\n",
       "    <tr>\n",
       "      <th>INC0000062</th>\n",
       "      <td>8</td>\n",
       "      <td>8</td>\n",
       "      <td>8</td>\n",
       "      <td>8</td>\n",
       "      <td>8</td>\n",
       "      <td>8</td>\n",
       "      <td>8</td>\n",
       "      <td>8</td>\n",
       "      <td>8</td>\n",
       "      <td>8</td>\n",
       "      <td>...</td>\n",
       "      <td>8</td>\n",
       "      <td>8</td>\n",
       "      <td>8</td>\n",
       "      <td>8</td>\n",
       "      <td>8</td>\n",
       "      <td>8</td>\n",
       "      <td>8</td>\n",
       "      <td>8</td>\n",
       "      <td>8</td>\n",
       "      <td>8</td>\n",
       "    </tr>\n",
       "    <tr>\n",
       "      <th>...</th>\n",
       "      <td>...</td>\n",
       "      <td>...</td>\n",
       "      <td>...</td>\n",
       "      <td>...</td>\n",
       "      <td>...</td>\n",
       "      <td>...</td>\n",
       "      <td>...</td>\n",
       "      <td>...</td>\n",
       "      <td>...</td>\n",
       "      <td>...</td>\n",
       "      <td>...</td>\n",
       "      <td>...</td>\n",
       "      <td>...</td>\n",
       "      <td>...</td>\n",
       "      <td>...</td>\n",
       "      <td>...</td>\n",
       "      <td>...</td>\n",
       "      <td>...</td>\n",
       "      <td>...</td>\n",
       "      <td>...</td>\n",
       "      <td>...</td>\n",
       "    </tr>\n",
       "    <tr>\n",
       "      <th>INC0120304</th>\n",
       "      <td>3</td>\n",
       "      <td>3</td>\n",
       "      <td>3</td>\n",
       "      <td>3</td>\n",
       "      <td>3</td>\n",
       "      <td>3</td>\n",
       "      <td>3</td>\n",
       "      <td>3</td>\n",
       "      <td>3</td>\n",
       "      <td>3</td>\n",
       "      <td>...</td>\n",
       "      <td>3</td>\n",
       "      <td>3</td>\n",
       "      <td>3</td>\n",
       "      <td>3</td>\n",
       "      <td>3</td>\n",
       "      <td>3</td>\n",
       "      <td>3</td>\n",
       "      <td>3</td>\n",
       "      <td>3</td>\n",
       "      <td>3</td>\n",
       "    </tr>\n",
       "    <tr>\n",
       "      <th>INC0120319</th>\n",
       "      <td>2</td>\n",
       "      <td>2</td>\n",
       "      <td>2</td>\n",
       "      <td>2</td>\n",
       "      <td>2</td>\n",
       "      <td>2</td>\n",
       "      <td>2</td>\n",
       "      <td>2</td>\n",
       "      <td>2</td>\n",
       "      <td>2</td>\n",
       "      <td>...</td>\n",
       "      <td>2</td>\n",
       "      <td>2</td>\n",
       "      <td>2</td>\n",
       "      <td>2</td>\n",
       "      <td>2</td>\n",
       "      <td>2</td>\n",
       "      <td>2</td>\n",
       "      <td>2</td>\n",
       "      <td>2</td>\n",
       "      <td>2</td>\n",
       "    </tr>\n",
       "    <tr>\n",
       "      <th>INC0120495</th>\n",
       "      <td>6</td>\n",
       "      <td>6</td>\n",
       "      <td>6</td>\n",
       "      <td>6</td>\n",
       "      <td>6</td>\n",
       "      <td>6</td>\n",
       "      <td>6</td>\n",
       "      <td>6</td>\n",
       "      <td>6</td>\n",
       "      <td>6</td>\n",
       "      <td>...</td>\n",
       "      <td>6</td>\n",
       "      <td>6</td>\n",
       "      <td>6</td>\n",
       "      <td>6</td>\n",
       "      <td>6</td>\n",
       "      <td>6</td>\n",
       "      <td>6</td>\n",
       "      <td>6</td>\n",
       "      <td>6</td>\n",
       "      <td>6</td>\n",
       "    </tr>\n",
       "    <tr>\n",
       "      <th>INC0120835</th>\n",
       "      <td>4</td>\n",
       "      <td>4</td>\n",
       "      <td>4</td>\n",
       "      <td>4</td>\n",
       "      <td>4</td>\n",
       "      <td>4</td>\n",
       "      <td>4</td>\n",
       "      <td>4</td>\n",
       "      <td>4</td>\n",
       "      <td>4</td>\n",
       "      <td>...</td>\n",
       "      <td>4</td>\n",
       "      <td>4</td>\n",
       "      <td>4</td>\n",
       "      <td>4</td>\n",
       "      <td>4</td>\n",
       "      <td>4</td>\n",
       "      <td>4</td>\n",
       "      <td>4</td>\n",
       "      <td>4</td>\n",
       "      <td>4</td>\n",
       "    </tr>\n",
       "    <tr>\n",
       "      <th>INC0121064</th>\n",
       "      <td>4</td>\n",
       "      <td>4</td>\n",
       "      <td>4</td>\n",
       "      <td>4</td>\n",
       "      <td>4</td>\n",
       "      <td>4</td>\n",
       "      <td>4</td>\n",
       "      <td>4</td>\n",
       "      <td>4</td>\n",
       "      <td>4</td>\n",
       "      <td>...</td>\n",
       "      <td>4</td>\n",
       "      <td>4</td>\n",
       "      <td>4</td>\n",
       "      <td>4</td>\n",
       "      <td>4</td>\n",
       "      <td>4</td>\n",
       "      <td>4</td>\n",
       "      <td>4</td>\n",
       "      <td>4</td>\n",
       "      <td>4</td>\n",
       "    </tr>\n",
       "  </tbody>\n",
       "</table>\n",
       "<p>24918 rows × 28 columns</p>\n",
       "</div>"
      ],
      "text/plain": [
       "            incident_state  active  reassignment_count  reopen_count  \\\n",
       "number                                                                 \n",
       "INC0000045               4       4                   4             4   \n",
       "INC0000047               9       9                   9             9   \n",
       "INC0000057               7       7                   7             7   \n",
       "INC0000060               4       4                   4             4   \n",
       "INC0000062               8       8                   8             8   \n",
       "...                    ...     ...                 ...           ...   \n",
       "INC0120304               3       3                   3             3   \n",
       "INC0120319               2       2                   2             2   \n",
       "INC0120495               6       6                   6             6   \n",
       "INC0120835               4       4                   4             4   \n",
       "INC0121064               4       4                   4             4   \n",
       "\n",
       "            sys_mod_count  made_sla  caller_id  opened_by  opened_at  \\\n",
       "number                                                                 \n",
       "INC0000045              4         4          4          4          4   \n",
       "INC0000047              9         9          9          9          9   \n",
       "INC0000057              7         7          7          7          7   \n",
       "INC0000060              4         4          4          4          4   \n",
       "INC0000062              8         8          8          8          8   \n",
       "...                   ...       ...        ...        ...        ...   \n",
       "INC0120304              3         3          3          3          3   \n",
       "INC0120319              2         2          2          2          2   \n",
       "INC0120495              6         6          6          6          6   \n",
       "INC0120835              4         4          4          4          4   \n",
       "INC0121064              4         4          4          4          4   \n",
       "\n",
       "            sys_updated_by  ...  priority  assignment_group  assigned_to  \\\n",
       "number                      ...                                            \n",
       "INC0000045               4  ...         4                 4            4   \n",
       "INC0000047               9  ...         9                 9            9   \n",
       "INC0000057               7  ...         7                 7            7   \n",
       "INC0000060               4  ...         4                 4            4   \n",
       "INC0000062               8  ...         8                 8            8   \n",
       "...                    ...  ...       ...               ...          ...   \n",
       "INC0120304               3  ...         3                 3            3   \n",
       "INC0120319               2  ...         2                 2            2   \n",
       "INC0120495               6  ...         6                 6            6   \n",
       "INC0120835               4  ...         4                 4            4   \n",
       "INC0121064               4  ...         4                 4            4   \n",
       "\n",
       "            knowledge  u_priority_confirmation  notify  closed_code  \\\n",
       "number                                                                \n",
       "INC0000045          4                        4       4            4   \n",
       "INC0000047          9                        9       9            9   \n",
       "INC0000057          7                        7       7            7   \n",
       "INC0000060          4                        4       4            4   \n",
       "INC0000062          8                        8       8            8   \n",
       "...               ...                      ...     ...          ...   \n",
       "INC0120304          3                        3       3            3   \n",
       "INC0120319          2                        2       2            2   \n",
       "INC0120495          6                        6       6            6   \n",
       "INC0120835          4                        4       4            4   \n",
       "INC0121064          4                        4       4            4   \n",
       "\n",
       "            resolved_by  resolved_at  closed_at  \n",
       "number                                           \n",
       "INC0000045            4            4          4  \n",
       "INC0000047            9            9          9  \n",
       "INC0000057            7            7          7  \n",
       "INC0000060            4            4          4  \n",
       "INC0000062            8            8          8  \n",
       "...                 ...          ...        ...  \n",
       "INC0120304            3            3          3  \n",
       "INC0120319            2            2          2  \n",
       "INC0120495            6            6          6  \n",
       "INC0120835            4            4          4  \n",
       "INC0121064            4            4          4  \n",
       "\n",
       "[24918 rows x 28 columns]"
      ]
     },
     "execution_count": 23,
     "metadata": {},
     "output_type": "execute_result"
    }
   ],
   "source": [
    "df_with_high_question_value_column_dropped.groupby(['number']).count()"
   ]
  },
  {
   "cell_type": "markdown",
   "id": "6fbc1f71",
   "metadata": {},
   "source": [
    "<h3>Observation:</h3>\n",
    "There are 24918 unique incident numbers/tickets in the dataset."
   ]
  },
  {
   "cell_type": "markdown",
   "id": "8ba7f433",
   "metadata": {},
   "source": [
    "<hr  style=\"height:1px;\"/>"
   ]
  },
  {
   "cell_type": "code",
   "execution_count": 24,
   "id": "91c0df86",
   "metadata": {},
   "outputs": [
    {
     "data": {
      "text/plain": [
       "Text(0.5, 1.0, 'Distribution of incident based on SLA')"
      ]
     },
     "execution_count": 24,
     "metadata": {},
     "output_type": "execute_result"
    },
    {
     "data": {
      "image/png": "[encoded data removed]",
      "text/plain": [
       "<Figure size 720x288 with 1 Axes>"
      ]
     },
     "metadata": {
      "needs_background": "light"
     },
     "output_type": "display_data"
    }
   ],
   "source": [
    "fig_dims = (10, 4)\n",
    "fig, ax = plt.subplots(figsize=fig_dims)\n",
    "sns.countplot(x='made_sla', data=df_with_high_question_value_column_dropped, ax=ax)\n",
    "g.set_title(\"Distribution of incident based on SLA\")"
   ]
  },
  {
   "cell_type": "code",
   "execution_count": 25,
   "id": "59a6bc43",
   "metadata": {},
   "outputs": [
    {
     "data": {
      "text/plain": [
       "Text(0.5, 1.0, 'Distribution of incident based on type of communication')"
      ]
     },
     "execution_count": 25,
     "metadata": {},
     "output_type": "execute_result"
    },
    {
     "data": {
      "image/png": "[encoded data removed]",
      "text/plain": [
       "<Figure size 1440x720 with 1 Axes>"
      ]
     },
     "metadata": {
      "needs_background": "light"
     },
     "output_type": "display_data"
    }
   ],
   "source": [
    "fig_dims = (20, 10)\n",
    "fig, ax = plt.subplots(figsize=fig_dims)\n",
    "sns.countplot(x='contact_type', data=df_with_high_question_value_column_dropped, ax=ax)\n",
    "g.set_title(\"Distribution of incident based on type of communication\")"
   ]
  },
  {
   "cell_type": "code",
   "execution_count": 26,
   "id": "b5516c30",
   "metadata": {},
   "outputs": [
    {
     "data": {
      "text/plain": [
       "<matplotlib.legend.Legend at 0x1dcf925ec08>"
      ]
     },
     "execution_count": 26,
     "metadata": {},
     "output_type": "execute_result"
    },
    {
     "data": {
      "image/png": "[encoded data removed]",
      "text/plain": [
       "<Figure size 1440x720 with 1 Axes>"
      ]
     },
     "metadata": {
      "needs_background": "light"
     },
     "output_type": "display_data"
    }
   ],
   "source": [
    "# https://seaborn.pydata.org/generated/seaborn.countplot.html\n",
    "# https://stackoverflow.com/a/27084389/1225413\n",
    "fig_dims = (20, 10)\n",
    "fig, ax = plt.subplots(figsize=fig_dims)\n",
    "\n",
    "g=sns.countplot(x=\"contact_type\", hue=\"made_sla\", data=df_with_high_question_value_column_dropped, ax=ax)\n",
    "g.set_title(\"Contact type categorization of incident which have SLA\")\n",
    "plt.legend(loc='upper right')"
   ]
  },
  {
   "cell_type": "code",
   "execution_count": 27,
   "id": "4f93895a",
   "metadata": {},
   "outputs": [
    {
     "data": {
      "image/png": "[encoded data removed]",
      "text/plain": [
       "<Figure size 1440x720 with 2 Axes>"
      ]
     },
     "metadata": {
      "needs_background": "light"
     },
     "output_type": "display_data"
    }
   ],
   "source": [
    "fig_dims = (20, 10)\n",
    "fig, ax = plt.subplots(figsize=fig_dims)\n",
    "sns.heatmap(df_with_high_question_value_column_dropped.corr(),annot = True)\n",
    "plt.show()"
   ]
  },
  {
   "cell_type": "markdown",
   "id": "c2cfbd1c",
   "metadata": {},
   "source": [
    "<h3>Observation:</h3>\n",
    "\n",
    "The above cor-relation does not help much, may be we can check correlation between features after feature engineering."
   ]
  },
  {
   "cell_type": "markdown",
   "id": "77b36150",
   "metadata": {},
   "source": [
    "<hr  style=\"height:1px;\"/>"
   ]
  },
  {
   "cell_type": "code",
   "execution_count": 28,
   "id": "6c270058",
   "metadata": {},
   "outputs": [],
   "source": [
    "df_with_high_question_value_column_dropped['opened_at'] = pd.to_datetime(df_with_high_question_value_column_dropped.opened_at)"
   ]
  },
  {
   "cell_type": "code",
   "execution_count": 29,
   "id": "c81af5d3",
   "metadata": {},
   "outputs": [
    {
     "name": "stderr",
     "output_type": "stream",
     "text": [
      "c:\\anaconda3\\envs\\tfg2.4\\lib\\site-packages\\ipykernel_launcher.py:1: FutureWarning: Treating datetime data as categorical rather than numeric in `.describe` is deprecated and will be removed in a future version of pandas. Specify `datetime_is_numeric=True` to silence this warning and adopt the future behavior now.\n",
      "  \"\"\"Entry point for launching an IPython kernel.\n"
     ]
    },
    {
     "data": {
      "text/plain": [
       "count                  141712\n",
       "unique                  19849\n",
       "top       2016-04-14 20:42:00\n",
       "freq                       58\n",
       "first     2016-01-03 01:22:00\n",
       "last      2017-12-01 18:17:00\n",
       "Name: opened_at, dtype: object"
      ]
     },
     "execution_count": 29,
     "metadata": {},
     "output_type": "execute_result"
    }
   ],
   "source": [
    "df_with_high_question_value_column_dropped['opened_at'].describe()"
   ]
  },
  {
   "cell_type": "code",
   "execution_count": 30,
   "id": "d5bb2ff5",
   "metadata": {},
   "outputs": [
    {
     "data": {
      "image/png": "[encoded data removed]",
      "text/plain": [
       "<Figure size 1440x720 with 1 Axes>"
      ]
     },
     "metadata": {
      "needs_background": "light"
     },
     "output_type": "display_data"
    }
   ],
   "source": [
    "# https://stackoverflow.com/a/44908576/1225413\n",
    "# https://stackoverflow.com/a/45299439/1225413\n",
    "\n",
    "fig_dims = (20, 10)\n",
    "fig, ax = plt.subplots(figsize=fig_dims)\n",
    "df_with_high_question_value_column_dropped.groupby(pd.Grouper(key='opened_at',freq='1M')).size().plot(kind='bar', ax=ax, rot=90)\n",
    "\n",
    "plt.show()"
   ]
  },
  {
   "cell_type": "markdown",
   "id": "76b0a373",
   "metadata": {},
   "source": [
    "<h3>Observation:</h3>\n",
    "\n",
    "Most issues opened in the month of March."
   ]
  },
  {
   "cell_type": "markdown",
   "id": "f46bfe9f",
   "metadata": {},
   "source": [
    "<hr  style=\"height:1px;\"/>"
   ]
  },
  {
   "cell_type": "code",
   "execution_count": 31,
   "id": "95b5efea",
   "metadata": {},
   "outputs": [],
   "source": [
    "df_with_high_question_value_column_dropped['closed_at'] = pd.to_datetime(df_with_high_question_value_column_dropped.closed_at)"
   ]
  },
  {
   "cell_type": "code",
   "execution_count": 32,
   "id": "60ce7013",
   "metadata": {},
   "outputs": [
    {
     "name": "stderr",
     "output_type": "stream",
     "text": [
      "c:\\anaconda3\\envs\\tfg2.4\\lib\\site-packages\\ipykernel_launcher.py:1: FutureWarning: Treating datetime data as categorical rather than numeric in `.describe` is deprecated and will be removed in a future version of pandas. Specify `datetime_is_numeric=True` to silence this warning and adopt the future behavior now.\n",
      "  \"\"\"Entry point for launching an IPython kernel.\n"
     ]
    },
    {
     "data": {
      "text/plain": [
       "count                  141712\n",
       "unique                   2707\n",
       "top       2016-03-24 18:59:00\n",
       "freq                     3324\n",
       "first     2016-01-04 00:59:00\n",
       "last      2017-12-02 17:00:00\n",
       "Name: closed_at, dtype: object"
      ]
     },
     "execution_count": 32,
     "metadata": {},
     "output_type": "execute_result"
    }
   ],
   "source": [
    "df_with_high_question_value_column_dropped['closed_at'].describe()"
   ]
  },
  {
   "cell_type": "code",
   "execution_count": 33,
   "id": "6c443aab",
   "metadata": {},
   "outputs": [
    {
     "data": {
      "image/png": "[encoded data removed]",
      "text/plain": [
       "<Figure size 1440x720 with 1 Axes>"
      ]
     },
     "metadata": {
      "needs_background": "light"
     },
     "output_type": "display_data"
    }
   ],
   "source": [
    "# https://stackoverflow.com/a/44908576/1225413\n",
    "# https://stackoverflow.com/a/45299439/1225413\n",
    "\n",
    "fig_dims = (20, 10)\n",
    "fig, ax = plt.subplots(figsize=fig_dims)\n",
    "df_with_high_question_value_column_dropped.groupby(pd.Grouper(key='closed_at',freq='1M')).size().plot(kind='bar', ax=ax, rot=90)\n",
    "\n",
    "plt.show()"
   ]
  },
  {
   "cell_type": "markdown",
   "id": "6d183cab",
   "metadata": {},
   "source": [
    "<h3>Observation:</h3>\n",
    "Most issues closed in the month of March."
   ]
  },
  {
   "cell_type": "markdown",
   "id": "cb9a7caa",
   "metadata": {},
   "source": [
    "<hr  style=\"height:1px;\"/>"
   ]
  },
  {
   "cell_type": "markdown",
   "id": "3cc60880",
   "metadata": {},
   "source": [
    "<h1>EDA on target variable</h1>"
   ]
  },
  {
   "cell_type": "code",
   "execution_count": 34,
   "id": "32c18963",
   "metadata": {},
   "outputs": [],
   "source": [
    "date_format='%d/%m/%Y %H:%M'\n",
    "df['opened_at'] = pd.to_datetime(df.opened_at, format=date_format)\n",
    "df['sys_updated_at'] = pd.to_datetime(df.sys_updated_at, format=date_format)\n",
    "df['closed_at'] = pd.to_datetime(df.closed_at, format=date_format)"
   ]
  },
  {
   "cell_type": "code",
   "execution_count": 36,
   "id": "f55b7536",
   "metadata": {},
   "outputs": [],
   "source": [
    "# https://stackoverflow.com/a/46966942/1225413\n",
    "df['time_taken_to_complete'] = (df['closed_at'] - df['opened_at'])/ pd.Timedelta(hours=1)"
   ]
  },
  {
   "cell_type": "code",
   "execution_count": 65,
   "id": "2b1b4af1",
   "metadata": {},
   "outputs": [
    {
     "data": {
      "text/plain": [
       "array([[<AxesSubplot:title={'center':'time_taken_to_complete'}>]],\n",
       "      dtype=object)"
      ]
     },
     "execution_count": 65,
     "metadata": {},
     "output_type": "execute_result"
    },
    {
     "data": {
      "image/png": "[encoded data removed]",
      "text/plain": [
       "<Figure size 432x288 with 1 Axes>"
      ]
     },
     "metadata": {
      "needs_background": "light"
     },
     "output_type": "display_data"
    }
   ],
   "source": [
    "df.hist(column='time_taken_to_complete')"
   ]
  },
  {
   "cell_type": "code",
   "execution_count": 42,
   "id": "2a4ffd65",
   "metadata": {},
   "outputs": [
    {
     "data": {
      "text/plain": [
       "count    141712.000000\n",
       "mean        409.492242\n",
       "std         651.752572\n",
       "min           0.000000\n",
       "25%         125.116667\n",
       "50%         224.966667\n",
       "75%         417.750000\n",
       "max        8190.616667\n",
       "Name: time_taken_to_complete, dtype: float64"
      ]
     },
     "execution_count": 42,
     "metadata": {},
     "output_type": "execute_result"
    }
   ],
   "source": [
    "df['time_taken_to_complete'].describe()"
   ]
  },
  {
   "cell_type": "code",
   "execution_count": 64,
   "id": "252ce9d6",
   "metadata": {},
   "outputs": [
    {
     "name": "stdout",
     "output_type": "stream",
     "text": [
      "90th Percentile of 'time taken to complete'\t: 696.4\n"
     ]
    }
   ],
   "source": [
    "print(\"90th Percentile of 'time taken to complete'\\t:\",np.percentile(df[\"time_taken_to_complete\"],90))"
   ]
  },
  {
   "cell_type": "code",
   "execution_count": 60,
   "id": "607a6bc6",
   "metadata": {},
   "outputs": [
    {
     "data": {
      "text/plain": [
       "array([[<AxesSubplot:title={'center':'time_taken_to_complete'}>]],\n",
       "      dtype=object)"
      ]
     },
     "execution_count": 60,
     "metadata": {},
     "output_type": "execute_result"
    },
    {
     "data": {
      "image/png": "[encoded data removed]",
      "text/plain": [
       "<Figure size 432x288 with 1 Axes>"
      ]
     },
     "metadata": {
      "needs_background": "light"
     },
     "output_type": "display_data"
    }
   ],
   "source": [
    "df.loc[df[\"time_taken_to_complete\"] < 696].hist(column='time_taken_to_complete')"
   ]
  },
  {
   "cell_type": "code",
   "execution_count": 48,
   "id": "0a7bde7c",
   "metadata": {},
   "outputs": [
    {
     "data": {
      "image/png": "[encoded data removed]",
      "text/plain": [
       "<Figure size 432x288 with 1 Axes>"
      ]
     },
     "metadata": {
      "needs_background": "light"
     },
     "output_type": "display_data"
    }
   ],
   "source": [
    "df.boxplot(column=['time_taken_to_complete'], return_type='axes');"
   ]
  },
  {
   "cell_type": "code",
   "execution_count": 77,
   "id": "2feefe07",
   "metadata": {},
   "outputs": [
    {
     "name": "stderr",
     "output_type": "stream",
     "text": [
      "c:\\anaconda3\\envs\\tfg2.4\\lib\\site-packages\\scipy\\stats\\_distn_infrastructure.py:2494: RuntimeWarning: invalid value encountered in double_scalars\n",
      "  Lhat = muhat - Shat*mu\n"
     ]
    },
    {
     "data": {
      "image/png": "[encoded data removed]",
      "text/plain": [
       "<Figure size 1440x720 with 1 Axes>"
      ]
     },
     "metadata": {
      "needs_background": "light"
     },
     "output_type": "display_data"
    }
   ],
   "source": [
    "import scipy\n",
    "import scipy.stats\n",
    "\n",
    "fig_dims = (20, 10)\n",
    "fig, ax = plt.subplots(figsize=fig_dims)\n",
    "\n",
    "size = 30000\n",
    "x = np.arange(size)\n",
    "y = scipy.int_(df[\"time_taken_to_complete\"])\n",
    "h = plt.hist(y, bins=range(48))\n",
    "\n",
    "dist_names = ['lognorm','loguniform','powerlaw',\n",
    "              'pareto','exponnorm','exponweib','weibull_min','weibull_max']\n",
    "\n",
    "for dist_name in dist_names:\n",
    "    dist = getattr(scipy.stats, dist_name)\n",
    "    params = dist.fit(y)\n",
    "    arg = params[:-2]\n",
    "    loc = params[-2]\n",
    "    scale = params[-1]\n",
    "    if arg:\n",
    "        pdf_fitted = dist.pdf(x, *arg, loc=loc, scale=scale) * size\n",
    "    else:\n",
    "        pdf_fitted = dist.pdf(x, loc=loc, scale=scale) * size\n",
    "    plt.plot(pdf_fitted, label=dist_name)\n",
    "    plt.xlim(0,47)\n",
    "plt.legend(loc='upper right')\n",
    "plt.show()"
   ]
  },
  {
   "cell_type": "code",
   "execution_count": 78,
   "id": "5d51a113",
   "metadata": {},
   "outputs": [
    {
     "name": "stdout",
     "output_type": "stream",
     "text": [
      "<scipy.stats._continuous_distns.weibull_min_gen object at 0x000001DCF6C4F608>\n",
      "(0.9887420489429364, -2.337748371182281e-23, 407.3729426897951)\n",
      "\n",
      "<scipy.stats._continuous_distns.weibull_max_gen object at 0x000001DCF6C4FA48>\n",
      "(0.09584241170145207, 8190.616666666668, 1.7379518906654259)\n",
      "\n",
      "<scipy.stats._continuous_distns.powernorm_gen object at 0x000001DCF6CC7D88>\n",
      "(2.2194344999903782e-05, -397.9741763942445, 3.460442539345132)\n",
      "\n"
     ]
    },
    {
     "name": "stderr",
     "output_type": "stream",
     "text": [
      "c:\\anaconda3\\envs\\tfg2.4\\lib\\site-packages\\scipy\\stats\\_continuous_distns.py:621: RuntimeWarning: invalid value encountered in sqrt\n",
      "  sk = 2*(b-a)*np.sqrt(a + b + 1) / (a + b + 2) / np.sqrt(a*b)\n",
      "c:\\anaconda3\\envs\\tfg2.4\\lib\\site-packages\\scipy\\optimize\\minpack.py:175: RuntimeWarning: The iteration is not making good progress, as measured by the \n",
      "  improvement from the last ten iterations.\n",
      "  warnings.warn(msg, RuntimeWarning)\n"
     ]
    },
    {
     "name": "stdout",
     "output_type": "stream",
     "text": [
      "<scipy.stats._continuous_distns.beta_gen object at 0x000001DCF6C1FE48>\n",
      "(2.3059426605089826, 3064897814760.32, -1.183687250367858, 441657585853148.44)\n",
      "\n",
      "<scipy.stats._continuous_distns.invgauss_gen object at 0x000001DCF6C7B708>\n",
      "(0.9554997810480659, -9.14654995210521, 438.1359324085143)\n",
      "\n",
      "<scipy.stats._continuous_distns.uniform_gen object at 0x000001DCF6CEAB88>\n",
      "(0.0, 8190.616666666667)\n",
      "\n",
      "<scipy.stats._continuous_distns.gamma_gen object at 0x000001DCF6C59688>\n",
      "(1.256272471886518, -0.02508533003225465, 325.9780111143772)\n",
      "\n",
      "<scipy.stats._continuous_distns.expon_gen object at 0x000001DCF6C3EB88>\n",
      "(0.0, 409.4922417767491)\n",
      "\n",
      "<scipy.stats._continuous_distns.lognorm_gen object at 0x000001DCF6C9D3C8>\n",
      "(0.8055355614517996, -2.4715411104779204, 265.18673686889736)\n",
      "\n",
      "<scipy.stats._continuous_distns.powerlognorm_gen object at 0x000001DCF6BB2C88>\n",
      "(0.062010052420549897, 0.2505207428683537, -17.425333847569522, 96.77883117579519)\n",
      "\n",
      "<scipy.stats._continuous_distns.powerlaw_gen object at 0x000001DCF6CC7388>\n",
      "(0.28489580347985466, -1.4700569656693703e-21, 8323.646467807226)\n",
      "\n",
      "\n",
      "Distributions listed by Betterment of fit:\n",
      "............................................\n",
      "    Distribution     chi_square\n",
      "0    weibull_min  499640.818179\n",
      "8        lognorm  500318.139889\n",
      "7          expon  500829.508612\n",
      "9   powerlognorm  502629.490173\n",
      "3           beta  508658.618159\n",
      "4       invgauss  509538.852345\n",
      "6          gamma  513358.363780\n",
      "10      powerlaw  545949.131366\n",
      "5        uniform  706438.775323\n",
      "1    weibull_max  733326.230986\n",
      "2      powernorm  779211.000000\n"
     ]
    }
   ],
   "source": [
    "# https://gist.github.com/samread81/df69fc0f269eaefe59275fd4bd4cddd7#file-code-py\n",
    "dist_names = ['weibull_min','weibull_max','powernorm','beta',\n",
    "              'invgauss','uniform','gamma','expon',   \n",
    "              'lognorm','powerlognorm','powerlaw']\n",
    "\n",
    "chi_square_statistics = []\n",
    "# 11 equi-distant bins of observed Data \n",
    "percentile_bins = np.linspace(0,100,11)\n",
    "percentile_cutoffs = np.percentile(df['time_taken_to_complete'], percentile_bins)\n",
    "observed_frequency, bins = (np.histogram(df['time_taken_to_complete'], bins=percentile_cutoffs))\n",
    "cum_observed_frequency = np.cumsum(observed_frequency)\n",
    "\n",
    "# Loop through candidate distributions\n",
    "for distribution in dist_names:\n",
    "    # Set up distribution and get fitted distribution parameters\n",
    "    dist = getattr(scipy.stats, distribution)\n",
    "    param = dist.fit(df['time_taken_to_complete'])\n",
    "    print(\"{}\\n{}\\n\".format(dist, param))\n",
    "\n",
    "\n",
    "    # Get expected counts in percentile bins\n",
    "    # cdf of fitted sistrinution across bins\n",
    "    cdf_fitted = dist.cdf(percentile_cutoffs, *param)\n",
    "    expected_frequency = []\n",
    "    for bin in range(len(percentile_bins)-1):\n",
    "        expected_cdf_area = cdf_fitted[bin+1] - cdf_fitted[bin]\n",
    "        expected_frequency.append(expected_cdf_area)\n",
    "\n",
    "    # Chi-square Statistics\n",
    "    expected_frequency = np.array(expected_frequency) * size\n",
    "    cum_expected_frequency = np.cumsum(expected_frequency)\n",
    "    ss = sum (((cum_expected_frequency - cum_observed_frequency) ** 2) / cum_observed_frequency)\n",
    "    chi_square_statistics.append(ss)\n",
    "\n",
    "\n",
    "#Sort by minimum ch-square statistics\n",
    "results = pd.DataFrame()\n",
    "results['Distribution'] = dist_names\n",
    "results['chi_square'] = chi_square_statistics\n",
    "results.sort_values(['chi_square'], inplace=True)\n",
    "\n",
    "\n",
    "print ('\\nDistributions listed by Betterment of fit:')\n",
    "print ('............................................')\n",
    "print (results)"
   ]
  },
  {
   "cell_type": "code",
   "execution_count": null,
   "id": "96666fc6",
   "metadata": {},
   "outputs": [],
   "source": []
  },
  {
   "cell_type": "code",
   "execution_count": null,
   "id": "b4ad769b",
   "metadata": {},
   "outputs": [],
   "source": []
  },
  {
   "cell_type": "markdown",
   "id": "e3ce78a0",
   "metadata": {},
   "source": [
    "<hr  style=\"height:1px;\"/>"
   ]
  },
  {
   "cell_type": "markdown",
   "id": "7f746d4a",
   "metadata": {},
   "source": [
    "<h1>Final Observations:</h1>\n",
    "\n",
    "\n",
    "<ol>\n",
    "    <li>Dataset is highly imblanaced if we consider feature such as reopen_count, priority.</li>\n",
    "    <li>Most of the closed code belongs to code 6.</li>\n",
    "    <li>Many features have missing values, i.e., have ? value in them.</li>\n",
    "    <li>Since their are various kinds of features, we have to pre-process each one differently.</li>\n",
    "</ol>"
   ]
  },
  {
   "cell_type": "code",
   "execution_count": null,
   "id": "b9547de9",
   "metadata": {},
   "outputs": [],
   "source": []
  },
  {
   "cell_type": "code",
   "execution_count": null,
   "id": "b2df67ad",
   "metadata": {},
   "outputs": [],
   "source": []
  }
 ],
 "metadata": {
  "kernelspec": {
   "display_name": "Python 3",
   "language": "python",
   "name": "python3"
  },
  "language_info": {
   "codemirror_mode": {
    "name": "ipython",
    "version": 3
   },
   "file_extension": ".py",
   "mimetype": "text/x-python",
   "name": "python",
   "nbconvert_exporter": "python",
   "pygments_lexer": "ipython3",
   "version": "3.7.10"
  }
 },
 "nbformat": 4,
 "nbformat_minor": 5
}
