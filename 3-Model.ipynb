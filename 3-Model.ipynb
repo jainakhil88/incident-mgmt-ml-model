{
 "cells": [
  {
   "cell_type": "code",
   "execution_count": 2,
   "id": "098a1b3e",
   "metadata": {},
   "outputs": [],
   "source": [
    "import pandas as pd\n",
    "import seaborn as sns\n",
    "import matplotlib.pyplot as plt\n",
    "import numpy as np\n",
    "import pickle\n",
    "\n",
    "from sklearn.metrics import mean_squared_error\n",
    "from sklearn.linear_model import LinearRegression, Ridge, Lasso, ElasticNet\n",
    "from sklearn.neighbors import KNeighborsRegressor\n",
    "\n",
    "from sklearn.tree import DecisionTreeRegressor\n",
    "from sklearn.tree import ExtraTreeRegressor\n",
    "from sklearn.ensemble import BaggingRegressor\n",
    "from sklearn.ensemble import RandomForestRegressor\n",
    "from sklearn.ensemble import ExtraTreesRegressor\n",
    "\n",
    "from xgboost import XGBRegressor\n",
    "from lightgbm import LGBMRegressor\n",
    "\n",
    "from sklearn import model_selection\n",
    "from sklearn.model_selection import train_test_split\n",
    "\n",
    "import warnings\n",
    "import joblib\n",
    "import datetime\n",
    "\n",
    "import tqdm\n",
    "# from tqdm.notebook import tqdm\n",
    "\n",
    "warnings.filterwarnings('ignore')\n",
    "%matplotlib inline"
   ]
  },
  {
   "cell_type": "code",
   "execution_count": 3,
   "id": "5e611c3b",
   "metadata": {},
   "outputs": [],
   "source": [
    "'''Generic method to load saved object in a file to object using pickle.'''\n",
    "def load_pickle_to_obj(filename):\n",
    "    obj = None\n",
    "    with open(filename, 'rb') as f:\n",
    "        obj=pickle.load(f)\n",
    "    return obj"
   ]
  },
  {
   "cell_type": "code",
   "execution_count": 4,
   "id": "09d71856",
   "metadata": {},
   "outputs": [],
   "source": [
    "X_train_after_feature_engg_file=\"X_train_feature_enggineered_df.pkl\"\n",
    "y_train_file=\"y_train.pkl\"\n",
    "X_test_after_feature_engg_file=\"X_test_feature_enggineered_df.pkl\"\n",
    "y_test_file=\"y_test.pkl\"\n",
    "\n",
    "X_train=load_pickle_to_obj(X_train_after_feature_engg_file)\n",
    "y_train=load_pickle_to_obj(y_train_file)\n",
    "X_test=load_pickle_to_obj(X_test_after_feature_engg_file)\n",
    "y_test=load_pickle_to_obj(y_test_file)"
   ]
  },
  {
   "cell_type": "code",
   "execution_count": 5,
   "id": "1de0b0ed",
   "metadata": {},
   "outputs": [
    {
     "data": {
      "text/plain": [
       "((99198, 35), (42514, 35))"
      ]
     },
     "execution_count": 5,
     "metadata": {},
     "output_type": "execute_result"
    }
   ],
   "source": [
    "X_train.shape, X_test.shape"
   ]
  },
  {
   "cell_type": "code",
   "execution_count": 6,
   "id": "3d2b60bf",
   "metadata": {
    "scrolled": false
   },
   "outputs": [
    {
     "name": "stdout",
     "output_type": "stream",
     "text": [
      "<class 'pandas.core.frame.DataFrame'>\n",
      "Int64Index: 99198 entries, 12846 to 43567\n",
      "Data columns (total 35 columns):\n",
      "reassignment_count                   99198 non-null object\n",
      "reopen_count                         99198 non-null object\n",
      "sys_mod_count                        99198 non-null object\n",
      "impact                               99198 non-null object\n",
      "urgency                              99198 non-null object\n",
      "priority                             99198 non-null object\n",
      "caller_id_num                        99198 non-null object\n",
      "sys_updated_by_num                   99198 non-null object\n",
      "location_num                         99198 non-null object\n",
      "category_num                         99198 non-null object\n",
      "subcategory_num                      99198 non-null object\n",
      "closed_code_num                      99198 non-null object\n",
      "resolved_by_num                      99198 non-null object\n",
      "incident_state_Awaiting Evidence     99198 non-null object\n",
      "incident_state_Awaiting Problem      99198 non-null object\n",
      "incident_state_Awaiting User Info    99198 non-null object\n",
      "incident_state_Awaiting Vendor       99198 non-null object\n",
      "incident_state_Closed                99198 non-null object\n",
      "incident_state_New                   99198 non-null object\n",
      "incident_state_Resolved              99198 non-null object\n",
      "active_True                          99198 non-null object\n",
      "made_sla_True                        99198 non-null object\n",
      "contact_type_Email                   99198 non-null object\n",
      "contact_type_IVR                     99198 non-null object\n",
      "contact_type_Phone                   99198 non-null object\n",
      "contact_type_Self service            99198 non-null object\n",
      "knowledge_True                       99198 non-null object\n",
      "u_priority_confirmation_True         99198 non-null object\n",
      "notify_Send Email                    99198 non-null object\n",
      "sys_updated_at_ms                    99198 non-null object\n",
      "sys_created_by_num                   99198 non-null object\n",
      "u_symptom_num                        99198 non-null object\n",
      "opened_by_num                        99198 non-null object\n",
      "assignment_group_num                 99198 non-null object\n",
      "assigned_to_num                      99198 non-null object\n",
      "dtypes: object(35)\n",
      "memory usage: 27.2+ MB\n"
     ]
    }
   ],
   "source": [
    "X_train.info()"
   ]
  },
  {
   "cell_type": "code",
   "execution_count": 7,
   "id": "873c7aea",
   "metadata": {},
   "outputs": [],
   "source": [
    "float_data_type_features=['reassignment_count', 'reopen_count', 'sys_mod_count','sys_updated_at_ms']\n",
    "int_data_type_features=['impact','urgency','priority','caller_id_num','sys_updated_by_num','location_num', \n",
    "'category_num', 'subcategory_num', 'closed_code_num', 'resolved_by_num', 'incident_state_Awaiting Evidence',\n",
    "'incident_state_Awaiting Problem','incident_state_Awaiting User Info',\n",
    "'incident_state_Awaiting Vendor', 'incident_state_Closed','incident_state_New',\n",
    "'incident_state_Resolved','active_True','made_sla_True', 'contact_type_Email','contact_type_IVR',\n",
    "'contact_type_Phone', 'contact_type_Self service','knowledge_True','u_priority_confirmation_True',\n",
    "'notify_Send Email','sys_created_by_num','u_symptom_num','opened_by_num', 'assignment_group_num','assigned_to_num']"
   ]
  },
  {
   "cell_type": "code",
   "execution_count": 8,
   "id": "a29d08e4",
   "metadata": {},
   "outputs": [],
   "source": [
    "# https://www.geeksforgeeks.org/python-pandas-dataframe-astype/\n",
    "for col in float_data_type_features:\n",
    "    X_train[col]=X_train[col].astype(\"float64\")\n",
    "    X_test[col]=X_test[col].astype(\"float64\")\n",
    "    \n",
    "for col in int_data_type_features:\n",
    "    X_train[col]=X_train[col].astype(\"int64\")\n",
    "    X_test[col]=X_test[col].astype(\"int64\")"
   ]
  },
  {
   "cell_type": "code",
   "execution_count": 9,
   "id": "4811eefd",
   "metadata": {},
   "outputs": [
    {
     "data": {
      "text/html": [
       "<div>\n",
       "<style scoped>\n",
       "    .dataframe tbody tr th:only-of-type {\n",
       "        vertical-align: middle;\n",
       "    }\n",
       "\n",
       "    .dataframe tbody tr th {\n",
       "        vertical-align: top;\n",
       "    }\n",
       "\n",
       "    .dataframe thead th {\n",
       "        text-align: right;\n",
       "    }\n",
       "</style>\n",
       "<table border=\"1\" class=\"dataframe\">\n",
       "  <thead>\n",
       "    <tr style=\"text-align: right;\">\n",
       "      <th></th>\n",
       "      <th>reassignment_count</th>\n",
       "      <th>reopen_count</th>\n",
       "      <th>sys_mod_count</th>\n",
       "      <th>impact</th>\n",
       "      <th>urgency</th>\n",
       "      <th>priority</th>\n",
       "      <th>caller_id_num</th>\n",
       "      <th>sys_updated_by_num</th>\n",
       "      <th>location_num</th>\n",
       "      <th>category_num</th>\n",
       "      <th>...</th>\n",
       "      <th>contact_type_Self service</th>\n",
       "      <th>knowledge_True</th>\n",
       "      <th>u_priority_confirmation_True</th>\n",
       "      <th>notify_Send Email</th>\n",
       "      <th>sys_updated_at_ms</th>\n",
       "      <th>sys_created_by_num</th>\n",
       "      <th>u_symptom_num</th>\n",
       "      <th>opened_by_num</th>\n",
       "      <th>assignment_group_num</th>\n",
       "      <th>assigned_to_num</th>\n",
       "    </tr>\n",
       "  </thead>\n",
       "  <tbody>\n",
       "    <tr>\n",
       "      <th>12846</th>\n",
       "      <td>-0.636268</td>\n",
       "      <td>-0.105307</td>\n",
       "      <td>-0.658175</td>\n",
       "      <td>1</td>\n",
       "      <td>1</td>\n",
       "      <td>2</td>\n",
       "      <td>2001</td>\n",
       "      <td>214</td>\n",
       "      <td>204</td>\n",
       "      <td>37</td>\n",
       "      <td>...</td>\n",
       "      <td>1</td>\n",
       "      <td>1</td>\n",
       "      <td>1</td>\n",
       "      <td>1</td>\n",
       "      <td>-1.076930</td>\n",
       "      <td>52</td>\n",
       "      <td>4</td>\n",
       "      <td>108</td>\n",
       "      <td>25</td>\n",
       "      <td>58</td>\n",
       "    </tr>\n",
       "    <tr>\n",
       "      <th>16096</th>\n",
       "      <td>-0.636268</td>\n",
       "      <td>-0.105307</td>\n",
       "      <td>-0.658175</td>\n",
       "      <td>1</td>\n",
       "      <td>1</td>\n",
       "      <td>2</td>\n",
       "      <td>2895</td>\n",
       "      <td>908</td>\n",
       "      <td>204</td>\n",
       "      <td>40</td>\n",
       "      <td>...</td>\n",
       "      <td>1</td>\n",
       "      <td>1</td>\n",
       "      <td>1</td>\n",
       "      <td>1</td>\n",
       "      <td>-1.056181</td>\n",
       "      <td>34</td>\n",
       "      <td>444</td>\n",
       "      <td>59</td>\n",
       "      <td>70</td>\n",
       "      <td>192</td>\n",
       "    </tr>\n",
       "    <tr>\n",
       "      <th>52740</th>\n",
       "      <td>-0.059340</td>\n",
       "      <td>-0.105307</td>\n",
       "      <td>0.247074</td>\n",
       "      <td>1</td>\n",
       "      <td>1</td>\n",
       "      <td>2</td>\n",
       "      <td>1727</td>\n",
       "      <td>908</td>\n",
       "      <td>46</td>\n",
       "      <td>23</td>\n",
       "      <td>...</td>\n",
       "      <td>1</td>\n",
       "      <td>1</td>\n",
       "      <td>1</td>\n",
       "      <td>1</td>\n",
       "      <td>-0.141211</td>\n",
       "      <td>13</td>\n",
       "      <td>470</td>\n",
       "      <td>24</td>\n",
       "      <td>72</td>\n",
       "      <td>123</td>\n",
       "    </tr>\n",
       "    <tr>\n",
       "      <th>135624</th>\n",
       "      <td>-0.059340</td>\n",
       "      <td>4.695363</td>\n",
       "      <td>0.376395</td>\n",
       "      <td>1</td>\n",
       "      <td>1</td>\n",
       "      <td>2</td>\n",
       "      <td>4131</td>\n",
       "      <td>745</td>\n",
       "      <td>204</td>\n",
       "      <td>57</td>\n",
       "      <td>...</td>\n",
       "      <td>1</td>\n",
       "      <td>1</td>\n",
       "      <td>1</td>\n",
       "      <td>1</td>\n",
       "      <td>0.946789</td>\n",
       "      <td>130</td>\n",
       "      <td>491</td>\n",
       "      <td>305</td>\n",
       "      <td>56</td>\n",
       "      <td>167</td>\n",
       "    </tr>\n",
       "    <tr>\n",
       "      <th>55379</th>\n",
       "      <td>0.517588</td>\n",
       "      <td>-0.105307</td>\n",
       "      <td>0.247074</td>\n",
       "      <td>1</td>\n",
       "      <td>1</td>\n",
       "      <td>2</td>\n",
       "      <td>2691</td>\n",
       "      <td>777</td>\n",
       "      <td>161</td>\n",
       "      <td>46</td>\n",
       "      <td>...</td>\n",
       "      <td>1</td>\n",
       "      <td>1</td>\n",
       "      <td>1</td>\n",
       "      <td>1</td>\n",
       "      <td>-0.165095</td>\n",
       "      <td>20</td>\n",
       "      <td>589</td>\n",
       "      <td>40</td>\n",
       "      <td>10</td>\n",
       "      <td>200</td>\n",
       "    </tr>\n",
       "    <tr>\n",
       "      <th>...</th>\n",
       "      <td>...</td>\n",
       "      <td>...</td>\n",
       "      <td>...</td>\n",
       "      <td>...</td>\n",
       "      <td>...</td>\n",
       "      <td>...</td>\n",
       "      <td>...</td>\n",
       "      <td>...</td>\n",
       "      <td>...</td>\n",
       "      <td>...</td>\n",
       "      <td>...</td>\n",
       "      <td>...</td>\n",
       "      <td>...</td>\n",
       "      <td>...</td>\n",
       "      <td>...</td>\n",
       "      <td>...</td>\n",
       "      <td>...</td>\n",
       "      <td>...</td>\n",
       "      <td>...</td>\n",
       "      <td>...</td>\n",
       "      <td>...</td>\n",
       "    </tr>\n",
       "    <tr>\n",
       "      <th>41993</th>\n",
       "      <td>-0.059340</td>\n",
       "      <td>-0.105307</td>\n",
       "      <td>0.117753</td>\n",
       "      <td>1</td>\n",
       "      <td>1</td>\n",
       "      <td>2</td>\n",
       "      <td>3149</td>\n",
       "      <td>16</td>\n",
       "      <td>204</td>\n",
       "      <td>53</td>\n",
       "      <td>...</td>\n",
       "      <td>1</td>\n",
       "      <td>1</td>\n",
       "      <td>1</td>\n",
       "      <td>1</td>\n",
       "      <td>-0.682195</td>\n",
       "      <td>10</td>\n",
       "      <td>491</td>\n",
       "      <td>17</td>\n",
       "      <td>66</td>\n",
       "      <td>203</td>\n",
       "    </tr>\n",
       "    <tr>\n",
       "      <th>97639</th>\n",
       "      <td>-0.059340</td>\n",
       "      <td>-0.105307</td>\n",
       "      <td>-0.140890</td>\n",
       "      <td>1</td>\n",
       "      <td>1</td>\n",
       "      <td>2</td>\n",
       "      <td>4416</td>\n",
       "      <td>915</td>\n",
       "      <td>204</td>\n",
       "      <td>34</td>\n",
       "      <td>...</td>\n",
       "      <td>1</td>\n",
       "      <td>1</td>\n",
       "      <td>1</td>\n",
       "      <td>1</td>\n",
       "      <td>0.225768</td>\n",
       "      <td>10</td>\n",
       "      <td>491</td>\n",
       "      <td>17</td>\n",
       "      <td>70</td>\n",
       "      <td>13</td>\n",
       "    </tr>\n",
       "    <tr>\n",
       "      <th>95939</th>\n",
       "      <td>-0.636268</td>\n",
       "      <td>-0.105307</td>\n",
       "      <td>-0.658175</td>\n",
       "      <td>1</td>\n",
       "      <td>1</td>\n",
       "      <td>2</td>\n",
       "      <td>4713</td>\n",
       "      <td>908</td>\n",
       "      <td>143</td>\n",
       "      <td>42</td>\n",
       "      <td>...</td>\n",
       "      <td>1</td>\n",
       "      <td>1</td>\n",
       "      <td>1</td>\n",
       "      <td>1</td>\n",
       "      <td>0.199965</td>\n",
       "      <td>62</td>\n",
       "      <td>534</td>\n",
       "      <td>239</td>\n",
       "      <td>70</td>\n",
       "      <td>126</td>\n",
       "    </tr>\n",
       "    <tr>\n",
       "      <th>117952</th>\n",
       "      <td>-0.636268</td>\n",
       "      <td>-0.105307</td>\n",
       "      <td>-0.399533</td>\n",
       "      <td>1</td>\n",
       "      <td>1</td>\n",
       "      <td>2</td>\n",
       "      <td>4512</td>\n",
       "      <td>908</td>\n",
       "      <td>143</td>\n",
       "      <td>42</td>\n",
       "      <td>...</td>\n",
       "      <td>1</td>\n",
       "      <td>1</td>\n",
       "      <td>1</td>\n",
       "      <td>1</td>\n",
       "      <td>0.691605</td>\n",
       "      <td>199</td>\n",
       "      <td>491</td>\n",
       "      <td>460</td>\n",
       "      <td>23</td>\n",
       "      <td>215</td>\n",
       "    </tr>\n",
       "    <tr>\n",
       "      <th>43567</th>\n",
       "      <td>-0.636268</td>\n",
       "      <td>-0.105307</td>\n",
       "      <td>-0.528854</td>\n",
       "      <td>1</td>\n",
       "      <td>1</td>\n",
       "      <td>2</td>\n",
       "      <td>2738</td>\n",
       "      <td>265</td>\n",
       "      <td>161</td>\n",
       "      <td>32</td>\n",
       "      <td>...</td>\n",
       "      <td>1</td>\n",
       "      <td>1</td>\n",
       "      <td>1</td>\n",
       "      <td>1</td>\n",
       "      <td>-0.691310</td>\n",
       "      <td>62</td>\n",
       "      <td>491</td>\n",
       "      <td>131</td>\n",
       "      <td>70</td>\n",
       "      <td>33</td>\n",
       "    </tr>\n",
       "  </tbody>\n",
       "</table>\n",
       "<p>99198 rows × 35 columns</p>\n",
       "</div>"
      ],
      "text/plain": [
       "        reassignment_count  reopen_count  sys_mod_count  impact  urgency  \\\n",
       "12846            -0.636268     -0.105307      -0.658175       1        1   \n",
       "16096            -0.636268     -0.105307      -0.658175       1        1   \n",
       "52740            -0.059340     -0.105307       0.247074       1        1   \n",
       "135624           -0.059340      4.695363       0.376395       1        1   \n",
       "55379             0.517588     -0.105307       0.247074       1        1   \n",
       "...                    ...           ...            ...     ...      ...   \n",
       "41993            -0.059340     -0.105307       0.117753       1        1   \n",
       "97639            -0.059340     -0.105307      -0.140890       1        1   \n",
       "95939            -0.636268     -0.105307      -0.658175       1        1   \n",
       "117952           -0.636268     -0.105307      -0.399533       1        1   \n",
       "43567            -0.636268     -0.105307      -0.528854       1        1   \n",
       "\n",
       "        priority  caller_id_num  sys_updated_by_num  location_num  \\\n",
       "12846          2           2001                 214           204   \n",
       "16096          2           2895                 908           204   \n",
       "52740          2           1727                 908            46   \n",
       "135624         2           4131                 745           204   \n",
       "55379          2           2691                 777           161   \n",
       "...          ...            ...                 ...           ...   \n",
       "41993          2           3149                  16           204   \n",
       "97639          2           4416                 915           204   \n",
       "95939          2           4713                 908           143   \n",
       "117952         2           4512                 908           143   \n",
       "43567          2           2738                 265           161   \n",
       "\n",
       "        category_num  ...  contact_type_Self service  knowledge_True  \\\n",
       "12846             37  ...                          1               1   \n",
       "16096             40  ...                          1               1   \n",
       "52740             23  ...                          1               1   \n",
       "135624            57  ...                          1               1   \n",
       "55379             46  ...                          1               1   \n",
       "...              ...  ...                        ...             ...   \n",
       "41993             53  ...                          1               1   \n",
       "97639             34  ...                          1               1   \n",
       "95939             42  ...                          1               1   \n",
       "117952            42  ...                          1               1   \n",
       "43567             32  ...                          1               1   \n",
       "\n",
       "        u_priority_confirmation_True  notify_Send Email  sys_updated_at_ms  \\\n",
       "12846                              1                  1          -1.076930   \n",
       "16096                              1                  1          -1.056181   \n",
       "52740                              1                  1          -0.141211   \n",
       "135624                             1                  1           0.946789   \n",
       "55379                              1                  1          -0.165095   \n",
       "...                              ...                ...                ...   \n",
       "41993                              1                  1          -0.682195   \n",
       "97639                              1                  1           0.225768   \n",
       "95939                              1                  1           0.199965   \n",
       "117952                             1                  1           0.691605   \n",
       "43567                              1                  1          -0.691310   \n",
       "\n",
       "        sys_created_by_num  u_symptom_num  opened_by_num  \\\n",
       "12846                   52              4            108   \n",
       "16096                   34            444             59   \n",
       "52740                   13            470             24   \n",
       "135624                 130            491            305   \n",
       "55379                   20            589             40   \n",
       "...                    ...            ...            ...   \n",
       "41993                   10            491             17   \n",
       "97639                   10            491             17   \n",
       "95939                   62            534            239   \n",
       "117952                 199            491            460   \n",
       "43567                   62            491            131   \n",
       "\n",
       "        assignment_group_num  assigned_to_num  \n",
       "12846                     25               58  \n",
       "16096                     70              192  \n",
       "52740                     72              123  \n",
       "135624                    56              167  \n",
       "55379                     10              200  \n",
       "...                      ...              ...  \n",
       "41993                     66              203  \n",
       "97639                     70               13  \n",
       "95939                     70              126  \n",
       "117952                    23              215  \n",
       "43567                     70               33  \n",
       "\n",
       "[99198 rows x 35 columns]"
      ]
     },
     "execution_count": 9,
     "metadata": {},
     "output_type": "execute_result"
    }
   ],
   "source": [
    "X_train"
   ]
  },
  {
   "cell_type": "code",
   "execution_count": 8,
   "id": "1723fc56",
   "metadata": {},
   "outputs": [
    {
     "name": "stdout",
     "output_type": "stream",
     "text": [
      "<class 'pandas.core.frame.DataFrame'>\n",
      "Int64Index: 99198 entries, 12846 to 43567\n",
      "Data columns (total 35 columns):\n",
      "reassignment_count                   99198 non-null float64\n",
      "reopen_count                         99198 non-null float64\n",
      "sys_mod_count                        99198 non-null float64\n",
      "impact                               99198 non-null int64\n",
      "urgency                              99198 non-null int64\n",
      "priority                             99198 non-null int64\n",
      "caller_id_num                        99198 non-null int64\n",
      "sys_updated_by_num                   99198 non-null int64\n",
      "location_num                         99198 non-null int64\n",
      "category_num                         99198 non-null int64\n",
      "subcategory_num                      99198 non-null int64\n",
      "closed_code_num                      99198 non-null int64\n",
      "resolved_by_num                      99198 non-null int64\n",
      "incident_state_Awaiting Evidence     99198 non-null int64\n",
      "incident_state_Awaiting Problem      99198 non-null int64\n",
      "incident_state_Awaiting User Info    99198 non-null int64\n",
      "incident_state_Awaiting Vendor       99198 non-null int64\n",
      "incident_state_Closed                99198 non-null int64\n",
      "incident_state_New                   99198 non-null int64\n",
      "incident_state_Resolved              99198 non-null int64\n",
      "active_True                          99198 non-null int64\n",
      "made_sla_True                        99198 non-null int64\n",
      "contact_type_Email                   99198 non-null int64\n",
      "contact_type_IVR                     99198 non-null int64\n",
      "contact_type_Phone                   99198 non-null int64\n",
      "contact_type_Self service            99198 non-null int64\n",
      "knowledge_True                       99198 non-null int64\n",
      "u_priority_confirmation_True         99198 non-null int64\n",
      "notify_Send Email                    99198 non-null int64\n",
      "sys_updated_at_ms                    99198 non-null float64\n",
      "sys_created_by_num                   99198 non-null int64\n",
      "u_symptom_num                        99198 non-null int64\n",
      "opened_by_num                        99198 non-null int64\n",
      "assignment_group_num                 99198 non-null int64\n",
      "assigned_to_num                      99198 non-null int64\n",
      "dtypes: float64(4), int64(31)\n",
      "memory usage: 27.2 MB\n"
     ]
    }
   ],
   "source": [
    "X_train.info()"
   ]
  },
  {
   "cell_type": "markdown",
   "id": "724f2a5e",
   "metadata": {},
   "source": [
    "<h3>Custom Ensemble Regressor</h3>"
   ]
  },
  {
   "cell_type": "code",
   "execution_count": 9,
   "id": "e239741f",
   "metadata": {},
   "outputs": [],
   "source": [
    "# https://github.com/smit8800/Equipment-Failure-prediction-Using-ML-for-Stripper-Wells/blob/master/Custom_ensamble_Classifer.ipynb"
   ]
  },
  {
   "cell_type": "code",
   "execution_count": 70,
   "id": "3bcd0559",
   "metadata": {},
   "outputs": [],
   "source": [
    "##meta data generator from the No of k models for given dataset.\n",
    "\n",
    "def Meta_Data_Generator(data, models, desc, K):\n",
    "    predictions = []\n",
    "#     print(\"data\",data)\n",
    "#     print(\"models\",models)\n",
    "# , desc='meta_data_'+str(desc)+'_when_k='+str(K)\n",
    "    for idx in tqdm.tqdm(range(len(data)), position=0, ncols = 80,leave = True, desc='meta_data_'+str(desc)+'_when_k='+str(K)):\n",
    "        pred = []\n",
    "        for k in range(len(models)):\n",
    "            pred.append(models[k].predict(data[idx].reshape(1, -1))[0])\n",
    "        predictions.append(pred)\n",
    "    return np.array(predictions)"
   ]
  },
  {
   "cell_type": "code",
   "execution_count": 79,
   "id": "7a4e1277",
   "metadata": {},
   "outputs": [],
   "source": [
    "def custom_ensembler(kx, X_train, y_train, X_test,y_test):\n",
    "    \n",
    "    X_tr = X_train.iloc[:, 1:].values\n",
    "    y_tr = np.array(list(map(int, y_train.values))).reshape(-1,1)\n",
    "    \n",
    "    X_te = X_test.iloc[:, 1:].values\n",
    "    y_te = np.array(list(map(int, y_test.values))).reshape(-1,1)\n",
    "    \n",
    "    # D1-D2 Split\n",
    "    D1_x, D2_x, D1_y, D2_y = train_test_split(\n",
    "        X_tr, y_tr, test_size=0.50\n",
    "    )\n",
    "\n",
    "    # Train the K regressor for D1 set\n",
    "    K = kx\n",
    "    models = []\n",
    "#     ,  desc='K='+str(K)\n",
    "    for i in tqdm.tqdm(range(K), leave = True, ncols = 80,position=0 , desc='when K='+str(K)):\n",
    "        # Samling with replacment\n",
    "        sample_x, _, sample_y, _ = train_test_split(\n",
    "            D1_x, D1_y, test_size=0.50\n",
    "        )\n",
    "        model = DecisionTreeRegressor(max_depth=100)\n",
    "        model.fit(sample_x, sample_y)\n",
    "        models.append(model)\n",
    "\n",
    "    # Prepare thr Dataset for Meta Model by Generating the Meta-Data from k models by passing the D2 set\n",
    "    meta_data = pd.DataFrame(Meta_Data_Generator(D2_x, models, \"D2\", K))\n",
    "    meta_data[\"target\"] = D2_y\n",
    "    \n",
    "    print('Fitting RandomForestRegressor for K=',K)\n",
    "    # Trainng the meta Model\n",
    "    meta_model = RandomForestRegressor(n_estimators=100, max_depth=100, n_jobs=16, random_state=0)\n",
    "    meta_model.fit(meta_data.iloc[:, :-1].values, meta_data.iloc[:, -1].values)\n",
    "\n",
    "    # Getting the Predictions for Test set and then Calcukating the \"Micro-F1-Score\".\n",
    "    meta_test = Meta_Data_Generator(X_te, models, \"test\",K)\n",
    "    y_true = y_te\n",
    "    pred_y = meta_model.predict(meta_test)\n",
    "    print('-'*100)\n",
    "    return mean_squared_error(y_true, pred_y), y_true, pred_y"
   ]
  },
  {
   "cell_type": "code",
   "execution_count": 80,
   "id": "efa92d66",
   "metadata": {
    "scrolled": false
   },
   "outputs": [
    {
     "name": "stderr",
     "output_type": "stream",
     "text": [
      "when K=5: 100%|███████████████████████████████████| 5/5 [00:01<00:00,  3.58it/s]                 | 0/7 [00:00<?, ?it/s]\n",
      "meta_data_D2_when_k=5: 100%|████████████| 49599/49599 [00:09<00:00, 5130.60it/s]\n"
     ]
    },
    {
     "name": "stdout",
     "output_type": "stream",
     "text": [
      "Fitting RandomForestRegressor for K= 5\n"
     ]
    },
    {
     "name": "stderr",
     "output_type": "stream",
     "text": [
      "meta_data_test_when_k=5: 100%|██████████| 42514/42514 [00:08<00:00, 4990.02it/s]\n",
      "when K=10:   0%|                                         | 0/10 [00:00<?, ?it/s]         | 1/7 [00:21<02:11, 21.84s/it]"
     ]
    },
    {
     "name": "stdout",
     "output_type": "stream",
     "text": [
      "----------------------------------------------------------------------------------------------------\n"
     ]
    },
    {
     "name": "stderr",
     "output_type": "stream",
     "text": [
      "when K=10: 100%|████████████████████████████████| 10/10 [00:02<00:00,  3.56it/s]\n",
      "meta_data_D2_when_k=10: 100%|███████████| 49599/49599 [00:19<00:00, 2561.41it/s]\n"
     ]
    },
    {
     "name": "stdout",
     "output_type": "stream",
     "text": [
      "Fitting RandomForestRegressor for K= 10\n"
     ]
    },
    {
     "name": "stderr",
     "output_type": "stream",
     "text": [
      "meta_data_test_when_k=10: 100%|█████████| 42514/42514 [00:16<00:00, 2533.86it/s]\n",
      "when K=50:   0%|                                         | 0/50 [00:00<?, ?it/s]         | 2/7 [01:05<02:52, 34.43s/it]"
     ]
    },
    {
     "name": "stdout",
     "output_type": "stream",
     "text": [
      "----------------------------------------------------------------------------------------------------\n"
     ]
    },
    {
     "name": "stderr",
     "output_type": "stream",
     "text": [
      "when K=50: 100%|████████████████████████████████| 50/50 [00:14<00:00,  3.54it/s]\n",
      "meta_data_D2_when_k=50: 100%|████████████| 49599/49599 [01:37<00:00, 507.16it/s]\n"
     ]
    },
    {
     "name": "stdout",
     "output_type": "stream",
     "text": [
      "Fitting RandomForestRegressor for K= 50\n"
     ]
    },
    {
     "name": "stderr",
     "output_type": "stream",
     "text": [
      "meta_data_test_when_k=50: 100%|██████████| 42514/42514 [01:22<00:00, 514.82it/s]\n",
      "when K=100:   0%|                                       | 0/100 [00:00<?, ?it/s]        | 3/7 [04:38<07:44, 116.03s/it]"
     ]
    },
    {
     "name": "stdout",
     "output_type": "stream",
     "text": [
      "----------------------------------------------------------------------------------------------------\n"
     ]
    },
    {
     "name": "stderr",
     "output_type": "stream",
     "text": [
      "when K=100: 100%|█████████████████████████████| 100/100 [00:28<00:00,  3.55it/s]\n",
      "meta_data_D2_when_k=100: 100%|███████████| 49599/49599 [03:15<00:00, 253.50it/s]\n"
     ]
    },
    {
     "name": "stdout",
     "output_type": "stream",
     "text": [
      "Fitting RandomForestRegressor for K= 100\n"
     ]
    },
    {
     "name": "stderr",
     "output_type": "stream",
     "text": [
      "meta_data_test_when_k=100: 100%|█████████| 42514/42514 [02:45<00:00, 257.59it/s]\n",
      "when K=200:   0%|                                       | 0/200 [00:00<?, ?it/s]        | 4/7 [11:44<11:55, 238.53s/it]"
     ]
    },
    {
     "name": "stdout",
     "output_type": "stream",
     "text": [
      "----------------------------------------------------------------------------------------------------\n"
     ]
    },
    {
     "name": "stderr",
     "output_type": "stream",
     "text": [
      "when K=200: 100%|█████████████████████████████| 200/200 [00:56<00:00,  3.55it/s]\n",
      "meta_data_D2_when_k=200: 100%|███████████| 49599/49599 [06:31<00:00, 126.75it/s]\n"
     ]
    },
    {
     "name": "stdout",
     "output_type": "stream",
     "text": [
      "Fitting RandomForestRegressor for K= 200\n"
     ]
    },
    {
     "name": "stderr",
     "output_type": "stream",
     "text": [
      "meta_data_test_when_k=200: 100%|█████████| 42514/42514 [05:30<00:00, 128.54it/s]\n",
      "when K=500:   0%|                                       | 0/500 [00:00<?, ?it/s]        | 5/7 [25:58<15:21, 460.56s/it]"
     ]
    },
    {
     "name": "stdout",
     "output_type": "stream",
     "text": [
      "----------------------------------------------------------------------------------------------------\n"
     ]
    },
    {
     "name": "stderr",
     "output_type": "stream",
     "text": [
      "when K=500: 100%|█████████████████████████████| 500/500 [02:19<00:00,  3.59it/s]\n",
      "meta_data_D2_when_k=500: 100%|████████████| 49599/49599 [16:24<00:00, 50.38it/s]\n"
     ]
    },
    {
     "name": "stdout",
     "output_type": "stream",
     "text": [
      "Fitting RandomForestRegressor for K= 500\n"
     ]
    },
    {
     "name": "stderr",
     "output_type": "stream",
     "text": [
      "meta_data_test_when_k=500: 100%|██████████| 42514/42514 [13:55<00:00, 50.89it/s]\n",
      " 86%|████████████████████████████████████████████████████████████████████▌           | 6/7 [1:02:16<17:24, 1044.29s/it]"
     ]
    },
    {
     "name": "stdout",
     "output_type": "stream",
     "text": [
      "----------------------------------------------------------------------------------------------------\n"
     ]
    },
    {
     "name": "stderr",
     "output_type": "stream",
     "text": [
      "when K=1000: 100%|██████████████████████████| 1000/1000 [04:40<00:00,  3.57it/s]\n",
      "meta_data_D2_when_k=1000: 100%|███████████| 49599/49599 [33:10<00:00, 24.92it/s]\n"
     ]
    },
    {
     "name": "stdout",
     "output_type": "stream",
     "text": [
      "Fitting RandomForestRegressor for K= 1000\n"
     ]
    },
    {
     "name": "stderr",
     "output_type": "stream",
     "text": [
      "meta_data_test_when_k=1000: 100%|█████████| 42514/42514 [28:05<00:00, 25.22it/s]\n"
     ]
    },
    {
     "name": "stdout",
     "output_type": "stream",
     "text": [
      "----------------------------------------------------------------------------------------------------\n"
     ]
    },
    {
     "name": "stderr",
     "output_type": "stream",
     "text": [
      "100%|████████████████████████████████████████████████████████████████████████████████| 7/7 [2:14:57<00:00, 1156.73s/it]"
     ]
    },
    {
     "name": "stdout",
     "output_type": "stream",
     "text": [
      "Wall time: 2h 14min 57s\n"
     ]
    },
    {
     "name": "stderr",
     "output_type": "stream",
     "text": [
      "\n"
     ]
    }
   ],
   "source": [
    "%%time\n",
    "score1 = {}\n",
    "for k in tqdm.tqdm([5, 10, 50, 100, 200, 500, 1000], position=0):\n",
    "    score1[k], _, _ = custom_ensembler(k, X_train, y_train, X_test,y_test)"
   ]
  },
  {
   "cell_type": "code",
   "execution_count": 81,
   "id": "2b5f6a6b",
   "metadata": {},
   "outputs": [
    {
     "data": {
      "image/png": "[encoded data removed]",
      "text/plain": [
       "<Figure size 576x360 with 1 Axes>"
      ]
     },
     "metadata": {
      "needs_background": "light"
     },
     "output_type": "display_data"
    }
   ],
   "source": [
    "##Plotting the results of Hyperparameter Tuning \n",
    "\n",
    "fig = plt.figure(figsize=(8,5))\n",
    "plt.scatter(score1.keys(), score1.values(), marker='X', c='r', s=200)\n",
    "plt.title(\"Hyperparameter tuning for k\", fontsize=20)\n",
    "plt.xlabel(\"Number of k\", fontsize=15)\n",
    "plt.ylabel(\"mean_squared_error\", fontsize=15)\n",
    "plt.show()"
   ]
  },
  {
   "cell_type": "code",
   "execution_count": 82,
   "id": "46464db8",
   "metadata": {},
   "outputs": [
    {
     "data": {
      "image/png": "[encoded data removed]",
      "text/plain": [
       "<Figure size 576x360 with 1 Axes>"
      ]
     },
     "metadata": {
      "needs_background": "light"
     },
     "output_type": "display_data"
    }
   ],
   "source": [
    "##Plotting the results of Hyperparameter Tuning \n",
    "\n",
    "fig = plt.figure(figsize=(8,5))\n",
    "plt.scatter(score1.keys(), np.sqrt(list(score1.values())), marker='X', c='r', s=200)\n",
    "plt.title(\"Hyperparameter tuning for k\", fontsize=20)\n",
    "plt.xlabel(\"Number of k\", fontsize=15)\n",
    "plt.ylabel(\"root_mean_squared_error\", fontsize=15)\n",
    "plt.show()"
   ]
  },
  {
   "cell_type": "code",
   "execution_count": 91,
   "id": "9c675900",
   "metadata": {},
   "outputs": [
    {
     "name": "stderr",
     "output_type": "stream",
     "text": [
      "when K=5: 100%|███████████████████████████████████| 5/5 [00:01<00:00,  3.47it/s]\n",
      "meta_data_D2_when_k=5: 100%|████████████| 49599/49599 [00:09<00:00, 5103.97it/s]\n"
     ]
    },
    {
     "name": "stdout",
     "output_type": "stream",
     "text": [
      "Fitting RandomForestRegressor for K= 5\n"
     ]
    },
    {
     "name": "stderr",
     "output_type": "stream",
     "text": [
      "meta_data_test_when_k=5: 100%|██████████| 42514/42514 [00:08<00:00, 4946.39it/s]\n"
     ]
    },
    {
     "name": "stdout",
     "output_type": "stream",
     "text": [
      "----------------------------------------------------------------------------------------------------\n",
      "best No of K =  5 mean_square_error =  376710.5813150415\n",
      "Wall time: 21.9 s\n"
     ]
    }
   ],
   "source": [
    "%%time\n",
    "score, y_true, pred_y = custom_ensembler(5, X_train, y_train, X_test,y_test)\n",
    "print(\"best No of K = \",5,\"mean_square_error = \", score)"
   ]
  },
  {
   "cell_type": "code",
   "execution_count": 90,
   "id": "bbd831b9",
   "metadata": {},
   "outputs": [
    {
     "name": "stdout",
     "output_type": "stream",
     "text": [
      "+----+---------+--------------------+\n",
      "| No | No of K | Mean Squared Error |\n",
      "+----+---------+--------------------+\n",
      "| 1  |    5    | 364969.28790191555 |\n",
      "| 2  |    10   | 432295.44119249884 |\n",
      "| 3  |    50   | 431266.2497194587  |\n",
      "| 4  |   100   | 602238.5477912856  |\n",
      "| 5  |   200   |  451961.623692036  |\n",
      "| 6  |   500   |  484703.521044345  |\n",
      "| 7  |   1000  | 407433.5311710937  |\n",
      "+----+---------+--------------------+\n"
     ]
    }
   ],
   "source": [
    "from prettytable import PrettyTable\n",
    "\n",
    "x = PrettyTable()\n",
    "x.field_names = [\"No\", \"No of K\", \"Mean Squared Error\"]\n",
    "for idx in range(7):\n",
    "    x.add_row([idx+1, list(score1.keys())[idx], list(score1.values())[idx]])\n",
    "print(x)"
   ]
  },
  {
   "cell_type": "code",
   "execution_count": null,
   "id": "1e863d83",
   "metadata": {},
   "outputs": [],
   "source": []
  },
  {
   "cell_type": "code",
   "execution_count": null,
   "id": "f2ba86da",
   "metadata": {},
   "outputs": [],
   "source": []
  },
  {
   "cell_type": "code",
   "execution_count": null,
   "id": "255cfb07",
   "metadata": {},
   "outputs": [],
   "source": []
  },
  {
   "cell_type": "code",
   "execution_count": null,
   "id": "9ad81552",
   "metadata": {},
   "outputs": [],
   "source": []
  },
  {
   "cell_type": "code",
   "execution_count": null,
   "id": "ac2b51cb",
   "metadata": {},
   "outputs": [],
   "source": []
  },
  {
   "cell_type": "code",
   "execution_count": null,
   "id": "75251baa",
   "metadata": {},
   "outputs": [],
   "source": []
  },
  {
   "cell_type": "code",
   "execution_count": null,
   "id": "ed3eefcf",
   "metadata": {},
   "outputs": [],
   "source": []
  }
 ],
 "metadata": {
  "kernelspec": {
   "display_name": "Python 3",
   "language": "python",
   "name": "python3"
  },
  "language_info": {
   "codemirror_mode": {
    "name": "ipython",
    "version": 3
   },
   "file_extension": ".py",
   "mimetype": "text/x-python",
   "name": "python",
   "nbconvert_exporter": "python",
   "pygments_lexer": "ipython3",
   "version": "3.7.10"
  }
 },
 "nbformat": 4,
 "nbformat_minor": 5
}
